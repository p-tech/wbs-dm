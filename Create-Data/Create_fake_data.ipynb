{
  "nbformat": 4,
  "nbformat_minor": 0,
  "metadata": {
    "colab": {
      "provenance": [],
      "authorship_tag": "ABX9TyPGDaDu4EISmRPbFipQ/hoX",
      "include_colab_link": true
    },
    "kernelspec": {
      "name": "python3",
      "display_name": "Python 3"
    },
    "language_info": {
      "name": "python"
    }
  },
  "cells": [
    {
      "cell_type": "markdown",
      "metadata": {
        "id": "view-in-github",
        "colab_type": "text"
      },
      "source": [
        "<a href=\"https://colab.research.google.com/github/p-tech/wbs-dm/blob/main/Create-Data/Create_fake_data.ipynb\" target=\"_parent\"><img src=\"https://colab.research.google.com/assets/colab-badge.svg\" alt=\"Open In Colab\"/></a>"
      ]
    },
    {
      "cell_type": "code",
      "execution_count": 1,
      "metadata": {
        "colab": {
          "base_uri": "https://localhost:8080/"
        },
        "id": "Zfr9sGNH_CEM",
        "outputId": "4c20ead9-6684-447d-e73f-b92b69602fa7"
      },
      "outputs": [
        {
          "output_type": "stream",
          "name": "stdout",
          "text": [
            "Database and tables created successfully.\n"
          ]
        }
      ],
      "source": [
        "import sqlite3\n",
        "\n",
        "def create_database():\n",
        "    # Connect to SQLite database (creates a new one if it doesn't exist)\n",
        "    conn = sqlite3.connect('mydb.sqlite')\n",
        "    cursor = conn.cursor()\n",
        "\n",
        "    # Enable foreign keys support in SQLite\n",
        "    cursor.execute(\"PRAGMA foreign_keys = ON;\")\n",
        "\n",
        "    # Create Owner table\n",
        "    cursor.execute('''\n",
        "    CREATE TABLE IF NOT EXISTS Owner (\n",
        "        idOwner INTEGER PRIMARY KEY,\n",
        "        Name TEXT,\n",
        "        Address TEXT,\n",
        "        Telephone TEXT\n",
        "    );\n",
        "    ''')\n",
        "\n",
        "    # Create Pets table\n",
        "    cursor.execute('''\n",
        "    CREATE TABLE IF NOT EXISTS Pets (\n",
        "        idPets INTEGER PRIMARY KEY,\n",
        "        Name TEXT,\n",
        "        date_of_birth TEXT,\n",
        "        breed TEXT,\n",
        "        Owner_idOwner INTEGER,\n",
        "        FOREIGN KEY (Owner_idOwner) REFERENCES Owner (idOwner) ON DELETE NO ACTION ON UPDATE NO ACTION\n",
        "    );\n",
        "    ''')\n",
        "\n",
        "    # Commit and close\n",
        "    conn.commit()\n",
        "    conn.close()\n",
        "    print(\"Database and tables created successfully.\")\n",
        "\n",
        "# Run the function to create the database\n",
        "create_database()"
      ]
    },
    {
      "cell_type": "code",
      "source": [
        "# prompt: using faker create 10 emplyees in different departments, create teh relevant tables to normalise the employee into a department and insert the created data into the tables withthe correct PK and FK\n",
        "!pip install faker\n",
        "import sqlite3\n",
        "from faker import Faker\n",
        "\n",
        "fake = Faker()\n",
        "\n",
        "def create_employee_data(num_employees):\n",
        "    employees = []\n",
        "    departments = [\"Sales\", \"Marketing\", \"Engineering\", \"HR\", \"Finance\"]\n",
        "    for _ in range(num_employees):\n",
        "        employees.append({\n",
        "            'name': fake.name(),\n",
        "            'department': fake.random_element(elements=departments)\n",
        "        })\n",
        "    return employees\n",
        "\n",
        "def create_tables():\n",
        "    conn = sqlite3.connect('company.db')\n",
        "    cursor = conn.cursor()\n",
        "\n",
        "    cursor.execute('''\n",
        "        CREATE TABLE IF NOT EXISTS departments (\n",
        "            id INTEGER PRIMARY KEY AUTOINCREMENT,\n",
        "            name TEXT UNIQUE\n",
        "        )\n",
        "    ''')\n",
        "\n",
        "    cursor.execute('''\n",
        "        CREATE TABLE IF NOT EXISTS employees (\n",
        "            id INTEGER PRIMARY KEY AUTOINCREMENT,\n",
        "            name TEXT,\n",
        "            department_id INTEGER,\n",
        "            FOREIGN KEY (department_id) REFERENCES departments(id)\n",
        "        )\n",
        "    ''')\n",
        "    conn.commit()\n",
        "    conn.close()\n",
        "\n",
        "def insert_data(employees):\n",
        "    conn = sqlite3.connect('company.db')\n",
        "    cursor = conn.cursor()\n",
        "\n",
        "    departments_dict = {}\n",
        "\n",
        "    for employee in employees:\n",
        "        if employee['department'] not in departments_dict:\n",
        "            cursor.execute(\"INSERT OR IGNORE INTO departments (name) VALUES (?)\", (employee['department'],))\n",
        "            departments_dict[employee['department']] = cursor.lastrowid\n",
        "\n",
        "        department_id = departments_dict[employee['department']]\n",
        "        cursor.execute(\"INSERT INTO employees (name, department_id) VALUES (?, ?)\", (employee['name'], department_id))\n",
        "\n",
        "    conn.commit()\n",
        "    conn.close()\n",
        "\n",
        "# Generate employee data\n",
        "employees = create_employee_data(10)\n",
        "\n",
        "# Create tables if not exists\n",
        "create_tables()\n",
        "\n",
        "# Insert data into tables\n",
        "insert_data(employees)\n",
        "\n",
        "print(\"Data inserted successfully!\")\n"
      ],
      "metadata": {
        "colab": {
          "base_uri": "https://localhost:8080/"
        },
        "id": "VEavsM8wFjU9",
        "outputId": "b7c24bb7-bd31-4fb5-c6e8-7b987aae6682"
      },
      "execution_count": 3,
      "outputs": [
        {
          "output_type": "stream",
          "name": "stdout",
          "text": [
            "Collecting faker\n",
            "  Downloading Faker-36.1.1-py3-none-any.whl.metadata (15 kB)\n",
            "Requirement already satisfied: tzdata in /usr/local/lib/python3.11/dist-packages (from faker) (2025.1)\n",
            "Downloading Faker-36.1.1-py3-none-any.whl (1.9 MB)\n",
            "\u001b[2K   \u001b[90m━━━━━━━━━━━━━━━━━━━━━━━━━━━━━━━━━━━━━━━━\u001b[0m \u001b[32m1.9/1.9 MB\u001b[0m \u001b[31m19.8 MB/s\u001b[0m eta \u001b[36m0:00:00\u001b[0m\n",
            "\u001b[?25hInstalling collected packages: faker\n",
            "Successfully installed faker-36.1.1\n",
            "Data inserted successfully!\n"
          ]
        }
      ]
    },
    {
      "cell_type": "code",
      "source": [
        "# prompt: display teh contetns fo the tables\n",
        "\n",
        "import sqlite3\n",
        "\n",
        "def display_table_contents(db_name, table_name):\n",
        "    try:\n",
        "        conn = sqlite3.connect(db_name)\n",
        "        cursor = conn.cursor()\n",
        "        cursor.execute(f\"SELECT * FROM {table_name}\")\n",
        "        rows = cursor.fetchall()\n",
        "\n",
        "        if rows:\n",
        "            print(f\"Contents of table '{table_name}':\")\n",
        "            for row in rows:\n",
        "                print(row)\n",
        "        else:\n",
        "            print(f\"Table '{table_name}' is empty.\")\n",
        "\n",
        "        conn.close()\n",
        "\n",
        "    except sqlite3.Error as e:\n",
        "        print(f\"Error: {e}\")\n",
        "\n",
        "# Display contents of the 'employees' table in 'company.db'\n",
        "display_table_contents('company.db', 'employees')\n",
        "\n",
        "# Display contents of the 'departments' table in 'company.db'\n",
        "display_table_contents('company.db', 'departments')\n"
      ],
      "metadata": {
        "colab": {
          "base_uri": "https://localhost:8080/"
        },
        "id": "OKyFNXn9GAcg",
        "outputId": "e4d0beab-922a-4ff8-e0d5-2862a22d3bfc"
      },
      "execution_count": 4,
      "outputs": [
        {
          "output_type": "stream",
          "name": "stdout",
          "text": [
            "Contents of table 'employees':\n",
            "(1, 'Mr. Christopher Garcia', 1)\n",
            "(2, 'Kimberly Allison', 2)\n",
            "(3, 'Kelly Campbell', 3)\n",
            "(4, 'Melinda Craig', 2)\n",
            "(5, 'Donald Davis', 3)\n",
            "(6, 'Monique Zhang', 4)\n",
            "(7, 'Stacey Mills', 1)\n",
            "(8, 'Daniel Pace', 1)\n",
            "(9, 'Patricia Howard', 3)\n",
            "(10, 'Zachary Moody', 5)\n",
            "Contents of table 'departments':\n",
            "(1, 'Marketing')\n",
            "(2, 'Sales')\n",
            "(3, 'HR')\n",
            "(4, 'Engineering')\n",
            "(5, 'Finance')\n"
          ]
        }
      ]
    }
  ]
}