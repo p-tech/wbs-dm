{
  "nbformat": 4,
  "nbformat_minor": 0,
  "metadata": {
    "colab": {
      "provenance": [],
      "authorship_tag": "ABX9TyMt3OoMC7O2KpRq5Xfvq5LR",
      "include_colab_link": true
    },
    "kernelspec": {
      "name": "python3",
      "display_name": "Python 3"
    },
    "language_info": {
      "name": "python"
    }
  },
  "cells": [
    {
      "cell_type": "markdown",
      "metadata": {
        "id": "view-in-github",
        "colab_type": "text"
      },
      "source": [
        "<a href=\"https://colab.research.google.com/github/p-tech/wbs-dm/blob/main/sqlite-exercise/SQLite_DB_Joins.ipynb\" target=\"_parent\"><img src=\"https://colab.research.google.com/assets/colab-badge.svg\" alt=\"Open In Colab\"/></a>"
      ]
    },
    {
      "cell_type": "markdown",
      "source": [
        "**STEP 1: CREATE the SQLite database;**\n"
      ],
      "metadata": {
        "id": "LNaKuchnQfb_"
      }
    },
    {
      "cell_type": "markdown",
      "source": [
        "We need to import the sqlite3 module and create the database and tables.  You'll see this follows the syntax we have used on previous weeks.\n"
      ],
      "metadata": {
        "id": "wUpw9AOgQweW"
      }
    },
    {
      "cell_type": "code",
      "execution_count": 1,
      "metadata": {
        "id": "0iMWnVhS8qjx",
        "colab": {
          "base_uri": "https://localhost:8080/"
        },
        "outputId": "46d6f81b-48a6-4b3e-9ca0-22cef06fc2cf"
      },
      "outputs": [
        {
          "output_type": "stream",
          "name": "stdout",
          "text": [
            "Database and tables created successfully!\n"
          ]
        }
      ],
      "source": [
        "import sqlite3\n",
        "\n",
        "#This statement creates a connection labelled as conn.  This will be used throughout to ensure the consistency for when we start to query the database tables.\n",
        "conn = sqlite3.connect('ecommerce.db')\n",
        "cursor = conn.cursor()\n",
        "\n",
        "cursor.execute('''\n",
        "CREATE TABLE olist_customers (\n",
        "    customer_id VARCHAR(32) PRIMARY KEY,\n",
        "    customer_unique_id VARCHAR(32),\n",
        "    customer_zip_code_prefix INT,\n",
        "    customer_city VARCHAR(255),\n",
        "    customer_state VARCHAR(2)\n",
        ");\n",
        "''')\n",
        "\n",
        "cursor.execute('''\n",
        "CREATE TABLE olist_geolocation (\n",
        "    geolocation_zip_code_prefix INT,\n",
        "    geolocation_lat FLOAT,\n",
        "    geolocation_lng FLOAT,\n",
        "    geolocation_city VARCHAR(255),\n",
        "    geolocation_state VARCHAR(2)\n",
        ");\n",
        "''')\n",
        "\n",
        "cursor.execute('''\n",
        "CREATE TABLE olist_order_items (\n",
        "    order_id VARCHAR(32),\n",
        "    order_item_id INT,\n",
        "    product_id VARCHAR(32),\n",
        "    seller_id VARCHAR(32),\n",
        "    shipping_limit_date DATETIME,\n",
        "    price FLOAT,\n",
        "    freight_value FLOAT,\n",
        "    PRIMARY KEY (order_id, order_item_id)\n",
        ");\n",
        "''')\n",
        "\n",
        "cursor.execute('''\n",
        "CREATE TABLE olist_order_payments (\n",
        "    order_id VARCHAR(32),\n",
        "    payment_sequential INT,\n",
        "    payment_type VARCHAR(50),\n",
        "    payment_installments INT,\n",
        "    payment_value FLOAT,\n",
        "    PRIMARY KEY (order_id, payment_sequential)\n",
        ");\n",
        "''')\n",
        "\n",
        "cursor.execute('''\n",
        "CREATE TABLE olist_order_reviews (\n",
        "    review_id VARCHAR(32) PRIMARY KEY,\n",
        "    order_id VARCHAR(32),\n",
        "    review_score INT,\n",
        "    review_comment_title TEXT,\n",
        "    review_comment_message TEXT,\n",
        "    review_creation_date DATETIME,\n",
        "    review_answer_timestamp DATETIME\n",
        ");\n",
        "''')\n",
        "\n",
        "cursor.execute('''\n",
        "CREATE TABLE olist_orders (\n",
        "    order_id VARCHAR(32) PRIMARY KEY,\n",
        "    customer_id VARCHAR(32),\n",
        "    order_status VARCHAR(50),\n",
        "    order_purchase_timestamp DATETIME,\n",
        "    order_approved_at DATETIME,\n",
        "    order_delivered_carrier_date DATETIME,\n",
        "    order_delivered_customer_date DATETIME,\n",
        "    order_estimated_delivery_date DATETIME\n",
        ");\n",
        "''')\n",
        "\n",
        "cursor.execute('''\n",
        "CREATE TABLE olist_products (\n",
        "    product_id VARCHAR(32) PRIMARY KEY,\n",
        "    product_category_name VARCHAR(255),\n",
        "    product_name_lenght FLOAT,\n",
        "    product_description_lenght FLOAT,\n",
        "    product_photos_qty FLOAT,\n",
        "    product_weight_g FLOAT,\n",
        "    product_length_cm FLOAT,\n",
        "    product_height_cm FLOAT,\n",
        "    product_width_cm FLOAT\n",
        ");\n",
        "''')\n",
        "\n",
        "cursor.execute('''\n",
        "CREATE TABLE olist_sellers (\n",
        "    seller_id VARCHAR(32) PRIMARY KEY,\n",
        "    seller_zip_code_prefix INT,\n",
        "    seller_city VARCHAR(255),\n",
        "    seller_state VARCHAR(2)\n",
        ");\n",
        "''')\n",
        "\n",
        "cursor.execute('''\n",
        "CREATE TABLE product_category_translation (\n",
        "    product_category_name VARCHAR(255) PRIMARY KEY,\n",
        "    product_category_name_english VARCHAR(255)\n",
        ");\n",
        "''')\n",
        "\n",
        "#This saves the chnages to the databae.  Up unitl this point the executed SQL statement isn't stored, changes are not immediatley saved.\n",
        "conn.commit()\n",
        "\n",
        "print(\"Database and tables created successfully!\")\n"
      ]
    },
    {
      "cell_type": "markdown",
      "source": [
        "**STEP 2: Check Tables Created:**\n",
        "\n",
        "Run the command to show the database tables created and the structure."
      ],
      "metadata": {
        "id": "bQ8lr_HEViN3"
      }
    },
    {
      "cell_type": "code",
      "source": [
        "\n",
        "cursor.execute(\"SELECT name FROM sqlite_master WHERE type='table';\")\n",
        "tables = cursor.fetchall()\n",
        "\n",
        "for table_name in tables:\n",
        "    print(f\"Table: {table_name[0]}\")\n",
        "    cursor.execute(f\"PRAGMA table_info({table_name[0]});\")\n",
        "    columns = cursor.fetchall()\n",
        "    for col in columns:\n",
        "        print(f\"  Column: {col[1]}, Type: {col[2]}, NotNull: {col[3]}, DefaultVal: {col[4]}, PrimaryKey: {col[5]}\")\n",
        "    print(\"-\" * 20)\n",
        "\n",
        "\n"
      ],
      "metadata": {
        "id": "7YAxyXoB9rN_"
      },
      "execution_count": null,
      "outputs": []
    },
    {
      "cell_type": "markdown",
      "source": [
        "**STEP 3: Upload Files:**\n",
        "\n",
        "Run this box multiple times to upload the relevant csv files. Or drag the files across to the Files window from your desktop."
      ],
      "metadata": {
        "id": "BH7SbcUPWPcS"
      }
    },
    {
      "cell_type": "code",
      "source": [
        "\n",
        "\n",
        "from google.colab import files\n",
        "uploaded = files.upload()\n",
        "for fn in uploaded.keys():\n",
        "  print('User uploaded file \"{name}\" with length {length} bytes'.format(\n",
        "      name=fn, length=len(uploaded[fn])))\n"
      ],
      "metadata": {
        "colab": {
          "base_uri": "https://localhost:8080/",
          "height": 38
        },
        "id": "8obMdgpiV46v",
        "outputId": "a35d4317-a592-40bc-913a-f5780fd05a3e"
      },
      "execution_count": null,
      "outputs": [
        {
          "output_type": "display_data",
          "data": {
            "text/plain": [
              "<IPython.core.display.HTML object>"
            ],
            "text/html": [
              "\n",
              "     <input type=\"file\" id=\"files-09570c56-235a-40fe-bfe8-79383651b184\" name=\"files[]\" multiple disabled\n",
              "        style=\"border:none\" />\n",
              "     <output id=\"result-09570c56-235a-40fe-bfe8-79383651b184\">\n",
              "      Upload widget is only available when the cell has been executed in the\n",
              "      current browser session. Please rerun this cell to enable.\n",
              "      </output>\n",
              "      <script>// Copyright 2017 Google LLC\n",
              "//\n",
              "// Licensed under the Apache License, Version 2.0 (the \"License\");\n",
              "// you may not use this file except in compliance with the License.\n",
              "// You may obtain a copy of the License at\n",
              "//\n",
              "//      http://www.apache.org/licenses/LICENSE-2.0\n",
              "//\n",
              "// Unless required by applicable law or agreed to in writing, software\n",
              "// distributed under the License is distributed on an \"AS IS\" BASIS,\n",
              "// WITHOUT WARRANTIES OR CONDITIONS OF ANY KIND, either express or implied.\n",
              "// See the License for the specific language governing permissions and\n",
              "// limitations under the License.\n",
              "\n",
              "/**\n",
              " * @fileoverview Helpers for google.colab Python module.\n",
              " */\n",
              "(function(scope) {\n",
              "function span(text, styleAttributes = {}) {\n",
              "  const element = document.createElement('span');\n",
              "  element.textContent = text;\n",
              "  for (const key of Object.keys(styleAttributes)) {\n",
              "    element.style[key] = styleAttributes[key];\n",
              "  }\n",
              "  return element;\n",
              "}\n",
              "\n",
              "// Max number of bytes which will be uploaded at a time.\n",
              "const MAX_PAYLOAD_SIZE = 100 * 1024;\n",
              "\n",
              "function _uploadFiles(inputId, outputId) {\n",
              "  const steps = uploadFilesStep(inputId, outputId);\n",
              "  const outputElement = document.getElementById(outputId);\n",
              "  // Cache steps on the outputElement to make it available for the next call\n",
              "  // to uploadFilesContinue from Python.\n",
              "  outputElement.steps = steps;\n",
              "\n",
              "  return _uploadFilesContinue(outputId);\n",
              "}\n",
              "\n",
              "// This is roughly an async generator (not supported in the browser yet),\n",
              "// where there are multiple asynchronous steps and the Python side is going\n",
              "// to poll for completion of each step.\n",
              "// This uses a Promise to block the python side on completion of each step,\n",
              "// then passes the result of the previous step as the input to the next step.\n",
              "function _uploadFilesContinue(outputId) {\n",
              "  const outputElement = document.getElementById(outputId);\n",
              "  const steps = outputElement.steps;\n",
              "\n",
              "  const next = steps.next(outputElement.lastPromiseValue);\n",
              "  return Promise.resolve(next.value.promise).then((value) => {\n",
              "    // Cache the last promise value to make it available to the next\n",
              "    // step of the generator.\n",
              "    outputElement.lastPromiseValue = value;\n",
              "    return next.value.response;\n",
              "  });\n",
              "}\n",
              "\n",
              "/**\n",
              " * Generator function which is called between each async step of the upload\n",
              " * process.\n",
              " * @param {string} inputId Element ID of the input file picker element.\n",
              " * @param {string} outputId Element ID of the output display.\n",
              " * @return {!Iterable<!Object>} Iterable of next steps.\n",
              " */\n",
              "function* uploadFilesStep(inputId, outputId) {\n",
              "  const inputElement = document.getElementById(inputId);\n",
              "  inputElement.disabled = false;\n",
              "\n",
              "  const outputElement = document.getElementById(outputId);\n",
              "  outputElement.innerHTML = '';\n",
              "\n",
              "  const pickedPromise = new Promise((resolve) => {\n",
              "    inputElement.addEventListener('change', (e) => {\n",
              "      resolve(e.target.files);\n",
              "    });\n",
              "  });\n",
              "\n",
              "  const cancel = document.createElement('button');\n",
              "  inputElement.parentElement.appendChild(cancel);\n",
              "  cancel.textContent = 'Cancel upload';\n",
              "  const cancelPromise = new Promise((resolve) => {\n",
              "    cancel.onclick = () => {\n",
              "      resolve(null);\n",
              "    };\n",
              "  });\n",
              "\n",
              "  // Wait for the user to pick the files.\n",
              "  const files = yield {\n",
              "    promise: Promise.race([pickedPromise, cancelPromise]),\n",
              "    response: {\n",
              "      action: 'starting',\n",
              "    }\n",
              "  };\n",
              "\n",
              "  cancel.remove();\n",
              "\n",
              "  // Disable the input element since further picks are not allowed.\n",
              "  inputElement.disabled = true;\n",
              "\n",
              "  if (!files) {\n",
              "    return {\n",
              "      response: {\n",
              "        action: 'complete',\n",
              "      }\n",
              "    };\n",
              "  }\n",
              "\n",
              "  for (const file of files) {\n",
              "    const li = document.createElement('li');\n",
              "    li.append(span(file.name, {fontWeight: 'bold'}));\n",
              "    li.append(span(\n",
              "        `(${file.type || 'n/a'}) - ${file.size} bytes, ` +\n",
              "        `last modified: ${\n",
              "            file.lastModifiedDate ? file.lastModifiedDate.toLocaleDateString() :\n",
              "                                    'n/a'} - `));\n",
              "    const percent = span('0% done');\n",
              "    li.appendChild(percent);\n",
              "\n",
              "    outputElement.appendChild(li);\n",
              "\n",
              "    const fileDataPromise = new Promise((resolve) => {\n",
              "      const reader = new FileReader();\n",
              "      reader.onload = (e) => {\n",
              "        resolve(e.target.result);\n",
              "      };\n",
              "      reader.readAsArrayBuffer(file);\n",
              "    });\n",
              "    // Wait for the data to be ready.\n",
              "    let fileData = yield {\n",
              "      promise: fileDataPromise,\n",
              "      response: {\n",
              "        action: 'continue',\n",
              "      }\n",
              "    };\n",
              "\n",
              "    // Use a chunked sending to avoid message size limits. See b/62115660.\n",
              "    let position = 0;\n",
              "    do {\n",
              "      const length = Math.min(fileData.byteLength - position, MAX_PAYLOAD_SIZE);\n",
              "      const chunk = new Uint8Array(fileData, position, length);\n",
              "      position += length;\n",
              "\n",
              "      const base64 = btoa(String.fromCharCode.apply(null, chunk));\n",
              "      yield {\n",
              "        response: {\n",
              "          action: 'append',\n",
              "          file: file.name,\n",
              "          data: base64,\n",
              "        },\n",
              "      };\n",
              "\n",
              "      let percentDone = fileData.byteLength === 0 ?\n",
              "          100 :\n",
              "          Math.round((position / fileData.byteLength) * 100);\n",
              "      percent.textContent = `${percentDone}% done`;\n",
              "\n",
              "    } while (position < fileData.byteLength);\n",
              "  }\n",
              "\n",
              "  // All done.\n",
              "  yield {\n",
              "    response: {\n",
              "      action: 'complete',\n",
              "    }\n",
              "  };\n",
              "}\n",
              "\n",
              "scope.google = scope.google || {};\n",
              "scope.google.colab = scope.google.colab || {};\n",
              "scope.google.colab._files = {\n",
              "  _uploadFiles,\n",
              "  _uploadFilesContinue,\n",
              "};\n",
              "})(self);\n",
              "</script> "
            ]
          },
          "metadata": {}
        }
      ]
    },
    {
      "cell_type": "markdown",
      "source": [],
      "metadata": {
        "id": "k65rBCDYKhMB"
      }
    },
    {
      "cell_type": "markdown",
      "source": [
        "**STEP 4: Load CSV files into the database tables:**\n",
        "\n",
        "This will populate the database tables with the data from the csv files.  No need to write INSERT statements.\n",
        "\n",
        "You need to make sure the correct files are loaded into the corresponding tables."
      ],
      "metadata": {
        "id": "PQVFAIgNW9I6"
      }
    },
    {
      "cell_type": "code",
      "source": [
        "import csv\n",
        "\n",
        "def import_csv_to_table(csv_file, table_name):\n",
        "    #opens the file aas read only 'r', doesn't allow the origianl csv to be changed.\n",
        "    with open(csv_file, 'r', encoding='utf-8') as file:\n",
        "        csv_reader = csv.reader(file)\n",
        "        next(csv_reader)  # Skip header row if present\n",
        "        for row in csv_reader:\n",
        "            #? creates a placeholder for each column in the CSV file. ['?','?','?'] - Join makes it a string so it can then be inserted.\n",
        "            # use of the '?' reduce risk of SQL injection\n",
        "            placeholders = ', '.join(['?' for _ in row])\n",
        "            #Assumes that the CSV and table have the same structure (this could be an issue) Would have to specify column names if different.\n",
        "            sql = f\"INSERT INTO {table_name} VALUES ({placeholders})\"\n",
        "            cursor.execute(sql, row)\n",
        "\n",
        "# Import data from CSV files into the relevant table - Student_Table goes into student table.  teh import_csv_to_table is the function, passing the two values across.\n",
        "try:\n",
        "    import_csv_to_table('olist_customers_dataset.csv', 'olist_customers')\n",
        "    #import_csv_to_table('olist_geolocation_dataset.csv', 'olist_geolocation')\n",
        "    import_csv_to_table('olist_order_items_dataset.csv', 'olist_order_items')\n",
        "    #import_csv_to_table('olist_order_payments_dataset.csv', 'olist_order_payments')\n",
        "    import_csv_to_table('olist_orders_dataset.csv', 'olist_orders')\n",
        "    #import_csv_to_table('olist_products_dataset.csv', 'olist_products')\n",
        "    import_csv_to_table('olist_sellers_dataset.csv', 'olist_sellers')\n",
        "    #import_csv_to_table('product_category_name_translation.csv', 'product_category_translation')\n",
        "    conn.commit()\n",
        "    print(\"Data imported successfully!\")\n",
        "except Exception as e:\n",
        "    print(f\"An error occurred: {e}\")\n",
        "    conn.rollback()  # Rollback changes if an error occurred\n",
        "\n"
      ],
      "metadata": {
        "id": "ed0T4gXZLTD4",
        "outputId": "90ee3511-5d0f-4642-a901-908871d9982a",
        "colab": {
          "base_uri": "https://localhost:8080/"
        }
      },
      "execution_count": 14,
      "outputs": [
        {
          "output_type": "stream",
          "name": "stdout",
          "text": [
            "Data imported successfully!\n"
          ]
        }
      ]
    },
    {
      "cell_type": "markdown",
      "source": [
        "**STEP 5: Check Data has loaded**\n",
        "\n",
        "Query each database table and load the data into a dataframe and display the first 5 lines"
      ],
      "metadata": {
        "id": "d3ozIMAAauOx"
      }
    },
    {
      "cell_type": "markdown",
      "source": [
        "**ONLY RUN IF YOU NEED TO DELETE THE DATA IN THE TABLES**\n",
        "\n",
        "If you run go back to **STEP 4** and re-run from there."
      ],
      "metadata": {
        "id": "9w8NuN4VcuWm"
      }
    },
    {
      "cell_type": "code",
      "source": [
        "# only run if you need to reset the tables without deleting the databae and starting again - then re-run the box previous box.\n",
        "# Delete all data from the tables\n",
        "cursor.execute(\"PRAGMA foreign_keys = OFF\")\n",
        "cursor.execute(\"DELETE FROM olist_customers\")\n",
        "cursor.execute(\"DELETE FROM olist_geolocation\")\n",
        "cursor.execute(\"DELETE FROM olist_order_items\")\n",
        "cursor.execute(\"DELETE FROM olist_order_payments\")\n",
        "cursor.execute(\"DELETE FROM olist_order_reviews\")\n",
        "cursor.execute(\"DELETE FROM olist_orders\")\n",
        "cursor.execute(\"DELETE FROM olist_products\")\n",
        "cursor.execute(\"DELETE FROM olist_sellers\")\n",
        "cursor.execute(\"DELETE FROM product_category_translation\")\n",
        "cursor.execute(\"PRAGMA foreign_keys = ON\")\n",
        "\n",
        "# Commit the changes\n",
        "conn.commit()\n",
        "\n",
        "conn.commit()\n",
        "print(\"Database Deleted - restart.\")\n",
        "\n"
      ],
      "metadata": {
        "id": "4qcmP5_uaSgy",
        "colab": {
          "base_uri": "https://localhost:8080/"
        },
        "outputId": "87eaa41a-1380-46ed-80b3-a62a81f3d938"
      },
      "execution_count": 13,
      "outputs": [
        {
          "output_type": "stream",
          "name": "stdout",
          "text": [
            "Database Deleted - restart.\n"
          ]
        }
      ]
    },
    {
      "cell_type": "markdown",
      "source": [
        "\n",
        "\n",
        "---\n",
        "\n",
        "\n",
        "# **INNER JOIN (Only Matching Records)**\n",
        "This retrieves only orders that have at least one item.\n",
        "\n",
        "Explanation:\n",
        "\n",
        "INNER JOIN only returns rows where there is a match in both tables.\n",
        "If an order does not have any items, it will not appear in the results."
      ],
      "metadata": {
        "id": "mnuZfCjDQuZd"
      }
    },
    {
      "cell_type": "code",
      "source": [
        "import pandas as pd\n",
        "\n",
        "inner_join_df = pd.read_sql_query(\"\"\"\n",
        "SELECT o.order_id, o.customer_id, oi.product_id, oi.price\n",
        "FROM olist_orders o\n",
        "INNER JOIN olist_order_items oi ON o.order_id = oi.order_id\n",
        "\"\"\", conn)\n",
        "\n",
        "# Print first 10 rows\n",
        "print(inner_join_df.head(10).to_string(index=False))\n",
        "\n",
        "# Print total row count\n",
        "print(f\"Total number of rows: {inner_join_df.shape[0]}\")\n"
      ],
      "metadata": {
        "id": "xrJ96WysGR-u",
        "colab": {
          "base_uri": "https://localhost:8080/"
        },
        "outputId": "b796654e-a01c-4544-e217-15ac5a40b246"
      },
      "execution_count": 26,
      "outputs": [
        {
          "output_type": "stream",
          "name": "stdout",
          "text": [
            "                        order_id                      customer_id                       product_id  price\n",
            "00010242fe8c5a6d1ba2dd792cb16214 3ce436f183e68e07877b285a838db11a 4244733e06e7ecb4970a6e2683c13e61  58.90\n",
            "00018f77f2f0320c557190d7a144bdd3 f6dd3ec061db4e3987629fe6b26e5cce e5f2d52b802189ee658865ca93d83a8f 239.90\n",
            "000229ec398224ef6ca0657da4fc703e 6489ae5e4333f3693df5ad4372dab6d3 c777355d18b72b67abbeef9df44fd0fd 199.00\n",
            "00024acbcdf0a6daa1e931b038114c75 d4eb9395c8c0431ee92fce09860c5a06 7634da152a4610f1595efa32f14722fc  12.99\n",
            "00042b26cf59d7ce69dfabb4e55b4fd9 58dbd0b2d70206bf40e62cd34e84d795 ac6c3623068f30de03045865e4e10089 199.90\n",
            "00048cc3ae777c65dbb7d2a0634bc1ea 816cbea969fe5b689b39cfc97a506742 ef92defde845ab8450f9d70c526ef70f  21.90\n",
            "00054e8431b9d7675808bcb819fb4a32 32e2e6ab09e778d99bf2e0ecd4898718 8d4f2bb7e93e6710a28f34fa83ee7d28  19.90\n",
            "000576fe39319847cbb9d288c5617fa6 9ed5e522dd9dd85b4af4a077526d8117 557d850972a7d6f792fd18ae1400d9b6 810.00\n",
            "0005a1a1728c9d785b8e2b08b904576c 16150771dfd4776261284213b89c304e 310ae3c140ff94b03219ad0adc3c778f 145.95\n",
            "0005f50442cb953dcd1d21e1fb923495 351d3cb2cee3c7fd0af6616c82df21d3 4535b0e1091c278dfd193e5a1d63b39f  53.99\n",
            "Total number of rows: 112650\n"
          ]
        }
      ]
    },
    {
      "cell_type": "markdown",
      "source": [
        "\n",
        "\n",
        "---\n",
        "\n",
        "\n",
        "# **LEFT JOIN (All Orders, Even If No Items)**\n",
        "This keeps all orders, even if they have no items.\n",
        "\n",
        "Explanation:\n",
        "All orders are kept, even if they have no items.\n",
        "\n",
        "If an order has no items, product_id and price will be NULL.\n",
        "\n"
      ],
      "metadata": {
        "id": "l1c3IFEwSWMO"
      }
    },
    {
      "cell_type": "code",
      "source": [
        "left_join_df = pd.read_sql_query(\"\"\"\n",
        "SELECT o.order_id, o.customer_id, oi.product_id, oi.price\n",
        "FROM olist_orders o\n",
        "LEFT JOIN olist_order_items oi ON o.order_id = oi.order_id\n",
        "\"\"\", conn)\n",
        "\n",
        "# Print first 10 rows\n",
        "print(left_join_df.head(10).to_string(index=False))\n",
        "\n",
        "# Print total row count\n",
        "print(f\"Total number of rows: {left_join_df.shape[0]}\")\n"
      ],
      "metadata": {
        "colab": {
          "base_uri": "https://localhost:8080/"
        },
        "id": "WTztJIuySg0I",
        "outputId": "aa49fcf8-3faf-4e31-d804-9c74065647e8"
      },
      "execution_count": 27,
      "outputs": [
        {
          "output_type": "stream",
          "name": "stdout",
          "text": [
            "                        order_id                      customer_id                       product_id  price\n",
            "e481f51cbdc54678b7cc49136f2d6af7 9ef432eb6251297304e76186b10a928d 87285b34884572647811a353c7ac498a  29.99\n",
            "53cdb2fc8bc7dce0b6741e2150273451 b0830fb4747a6c6d20dea0b8c802d7ef 595fac2a385ac33a80bd5114aec74eb8 118.70\n",
            "47770eb9100c2d0c44946d9cf07ec65d 41ce2a54c0b03bf3443c3d931a367089 aa4383b373c6aca5d8797843e5594415 159.90\n",
            "949d5b44dbf5de918fe9c16f97b45f8a f88197465ea7920adcdbec7375364d82 d0b61bfb1de832b15ba9d266ca96e5b0  45.00\n",
            "ad21c59c0840e6cb83a9ceb5573f8159 8ab97904e6daea8866dbdbc4fb7aad2c 65266b2da20d04dbe00c5c2d3bb7859e  19.90\n",
            "a4591c265e18cb1dcee52889e2d8acc3 503740e9ca751ccdda7ba28e9ab8f608 060cb19345d90064d1015407193c233d 147.90\n",
            "136cce7faa42fdb2cefd53fdc79a6098 ed0271e0b7da060a393796590e7b737a a1804276d9941ac0733cfd409f5206eb  49.90\n",
            "6514b8ad8028c9f2cc2374ded245783f 9bdf08b4b3b52b5526ff42d37d47f222 4520766ec412348b8d4caa5e8a18c464  59.99\n",
            "76c6e866289321a7c93b82b54852dc33 f54a9f0e6b351c431402b8461ea51999 ac1789e492dcd698c5c10b97a671243a  19.90\n",
            "e69bfb5eb88e0ed6a785585b27e16dbf 31ad1d1b63eb9962463f764d4e6e0c9d 9a78fb9862b10749a117f7fc3c31f051 149.99\n",
            "Total number of rows: 113425\n"
          ]
        }
      ]
    },
    {
      "cell_type": "markdown",
      "source": [
        "\n",
        "\n",
        "---\n",
        "\n",
        "\n",
        "# **RIGHT JOIN (All Order Items, Even If No Matching Order)**\n",
        "\n",
        "SQLite does not support RIGHT JOIN, but we can simulate it by swapping the table order in a LEFT JOIN.\n",
        "\n",
        "Explanation:\n",
        "All order items are kept, even if there is no matching order in olist_orders.\n",
        "If an item has no matching order, customer_id will be NULL."
      ],
      "metadata": {
        "id": "MSwK0ZFJTWvu"
      }
    },
    {
      "cell_type": "code",
      "source": [
        "right_join_df = pd.read_sql_query(\"\"\"\n",
        "SELECT oi.order_id, o.customer_id, oi.product_id, oi.price\n",
        "FROM olist_order_items oi\n",
        "LEFT JOIN olist_orders o ON oi.order_id = o.order_id\n",
        "\"\"\", conn)\n",
        "\n",
        "# Print first 10 rows\n",
        "print(right_join_df.head(10).to_string(index=False))\n",
        "\n",
        "# Print total row count\n",
        "print(f\"Total number of rows: {right_join_df.shape[0]}\")\n",
        "\n"
      ],
      "metadata": {
        "colab": {
          "base_uri": "https://localhost:8080/"
        },
        "id": "oDs3jdraTgoB",
        "outputId": "8290b7eb-d1b1-4c8c-9261-995a4d5b460e"
      },
      "execution_count": 28,
      "outputs": [
        {
          "output_type": "stream",
          "name": "stdout",
          "text": [
            "                        order_id                      customer_id                       product_id  price\n",
            "00010242fe8c5a6d1ba2dd792cb16214 3ce436f183e68e07877b285a838db11a 4244733e06e7ecb4970a6e2683c13e61  58.90\n",
            "00018f77f2f0320c557190d7a144bdd3 f6dd3ec061db4e3987629fe6b26e5cce e5f2d52b802189ee658865ca93d83a8f 239.90\n",
            "000229ec398224ef6ca0657da4fc703e 6489ae5e4333f3693df5ad4372dab6d3 c777355d18b72b67abbeef9df44fd0fd 199.00\n",
            "00024acbcdf0a6daa1e931b038114c75 d4eb9395c8c0431ee92fce09860c5a06 7634da152a4610f1595efa32f14722fc  12.99\n",
            "00042b26cf59d7ce69dfabb4e55b4fd9 58dbd0b2d70206bf40e62cd34e84d795 ac6c3623068f30de03045865e4e10089 199.90\n",
            "00048cc3ae777c65dbb7d2a0634bc1ea 816cbea969fe5b689b39cfc97a506742 ef92defde845ab8450f9d70c526ef70f  21.90\n",
            "00054e8431b9d7675808bcb819fb4a32 32e2e6ab09e778d99bf2e0ecd4898718 8d4f2bb7e93e6710a28f34fa83ee7d28  19.90\n",
            "000576fe39319847cbb9d288c5617fa6 9ed5e522dd9dd85b4af4a077526d8117 557d850972a7d6f792fd18ae1400d9b6 810.00\n",
            "0005a1a1728c9d785b8e2b08b904576c 16150771dfd4776261284213b89c304e 310ae3c140ff94b03219ad0adc3c778f 145.95\n",
            "0005f50442cb953dcd1d21e1fb923495 351d3cb2cee3c7fd0af6616c82df21d3 4535b0e1091c278dfd193e5a1d63b39f  53.99\n",
            "Total number of rows: 112650\n"
          ]
        }
      ]
    },
    {
      "cell_type": "markdown",
      "source": [
        "\n",
        "\n",
        "---\n",
        "\n",
        "# **FULL OUTER JOIN (All Orders & All Order Items, Even If No Match)**\n",
        "SQLite does not support FULL OUTER JOIN, but we can simulate it using LEFT JOIN + UNION + RIGHT JOIN.\n",
        "\n",
        "Explanation:\n",
        "First LEFT JOIN (Orders → Items)\n",
        "\n",
        "Ensures all orders appear, even if they have no items.\n",
        "\n",
        "Second LEFT JOIN (Items → Orders)\n",
        "\n",
        "Ensures all order items appear, even if they have no order.\n",
        "UNION merges both sets, simulating FULL OUTER JOIN."
      ],
      "metadata": {
        "id": "VirdkCLiT4xg"
      }
    },
    {
      "cell_type": "code",
      "source": [
        "full_outer_join_df = pd.read_sql_query(\"\"\"\n",
        "SELECT o.order_id, o.customer_id, oi.product_id, oi.price\n",
        "FROM olist_orders o\n",
        "LEFT JOIN olist_order_items oi ON o.order_id = oi.order_id\n",
        "UNION\n",
        "SELECT oi.order_id, o.customer_id, oi.product_id, oi.price\n",
        "FROM olist_order_items oi\n",
        "LEFT JOIN olist_orders o ON oi.order_id = o.order_id\n",
        "\"\"\", conn)\n",
        "\n",
        "# Print first 10 rows\n",
        "print(full_outer_join_df.head(10).to_string(index=False))\n",
        "\n",
        "# Print total row count\n",
        "print(f\"Total number of rows: {full_outer_join_df.shape[0]}\")\n",
        "\n"
      ],
      "metadata": {
        "colab": {
          "base_uri": "https://localhost:8080/"
        },
        "id": "iwQ9ciVpT_ZS",
        "outputId": "60c77f1d-ed58-4cff-ba61-b736cc2d96fe"
      },
      "execution_count": 29,
      "outputs": [
        {
          "output_type": "stream",
          "name": "stdout",
          "text": [
            "                        order_id                      customer_id                       product_id  price\n",
            "00010242fe8c5a6d1ba2dd792cb16214 3ce436f183e68e07877b285a838db11a 4244733e06e7ecb4970a6e2683c13e61  58.90\n",
            "00018f77f2f0320c557190d7a144bdd3 f6dd3ec061db4e3987629fe6b26e5cce e5f2d52b802189ee658865ca93d83a8f 239.90\n",
            "000229ec398224ef6ca0657da4fc703e 6489ae5e4333f3693df5ad4372dab6d3 c777355d18b72b67abbeef9df44fd0fd 199.00\n",
            "00024acbcdf0a6daa1e931b038114c75 d4eb9395c8c0431ee92fce09860c5a06 7634da152a4610f1595efa32f14722fc  12.99\n",
            "00042b26cf59d7ce69dfabb4e55b4fd9 58dbd0b2d70206bf40e62cd34e84d795 ac6c3623068f30de03045865e4e10089 199.90\n",
            "00048cc3ae777c65dbb7d2a0634bc1ea 816cbea969fe5b689b39cfc97a506742 ef92defde845ab8450f9d70c526ef70f  21.90\n",
            "00054e8431b9d7675808bcb819fb4a32 32e2e6ab09e778d99bf2e0ecd4898718 8d4f2bb7e93e6710a28f34fa83ee7d28  19.90\n",
            "000576fe39319847cbb9d288c5617fa6 9ed5e522dd9dd85b4af4a077526d8117 557d850972a7d6f792fd18ae1400d9b6 810.00\n",
            "0005a1a1728c9d785b8e2b08b904576c 16150771dfd4776261284213b89c304e 310ae3c140ff94b03219ad0adc3c778f 145.95\n",
            "0005f50442cb953dcd1d21e1fb923495 351d3cb2cee3c7fd0af6616c82df21d3 4535b0e1091c278dfd193e5a1d63b39f  53.99\n",
            "Total number of rows: 103200\n"
          ]
        }
      ]
    },
    {
      "cell_type": "markdown",
      "source": [
        "# **JOIN Type\tRows Returned**\n",
        "**INNER JOIN** : 112,650\n",
        "Only orders that have at least one item are included. Orders without items are excluded.\n",
        "\n",
        "**LEFT JOIN** :\t113,425\n",
        "Includes all orders, even if they have no items (which appear as NULL). More rows than INNER JOIN because some orders have no items.\n",
        "\n",
        "**RIGHT JOIN **: 112,650\n",
        "Includes all order items, even if the order is missing. In this case, it matches INNER JOIN, meaning every order item has a matching order.\n",
        "\n",
        "**FULL OUTER JOIN**\t: 103,200\n",
        "Should include all orders and all items, even if they don’t match. However, the row count is lower than expected, which suggests some orders exist without items, and some items exist without orders, but overlapping records are counted only once."
      ],
      "metadata": {
        "id": "d4GuTz9Vcsc9"
      }
    }
  ]
}