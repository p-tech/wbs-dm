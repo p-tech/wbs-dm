{
  "nbformat": 4,
  "nbformat_minor": 0,
  "metadata": {
    "colab": {
      "provenance": [],
      "authorship_tag": "ABX9TyPL0cm2YJhFt2Od5ym9/u9/",
      "include_colab_link": true
    },
    "kernelspec": {
      "name": "python3",
      "display_name": "Python 3"
    },
    "language_info": {
      "name": "python"
    }
  },
  "cells": [
    {
      "cell_type": "markdown",
      "metadata": {
        "id": "view-in-github",
        "colab_type": "text"
      },
      "source": [
        "<a href=\"https://colab.research.google.com/github/p-tech/wbs-dm/blob/main/SQLite_DB_Exercise_GH.ipynb\" target=\"_parent\"><img src=\"https://colab.research.google.com/assets/colab-badge.svg\" alt=\"Open In Colab\"/></a>"
      ]
    },
    {
      "cell_type": "markdown",
      "source": [
        "**STEP 1: CREATE the SQLite database;**\n"
      ],
      "metadata": {
        "id": "LNaKuchnQfb_"
      }
    },
    {
      "cell_type": "markdown",
      "source": [
        "We need to import the sqlite3 module and create the database and tables.  You'll see this follows the syntax we have used on previous weeks.\n",
        "\n",
        "Note that we have created the student table with a primary key that is not an INTEGER.\n",
        "\n",
        "Is this good practice?  \n",
        "What are the issues and benefits of doing this?"
      ],
      "metadata": {
        "id": "wUpw9AOgQweW"
      }
    },
    {
      "cell_type": "code",
      "execution_count": null,
      "metadata": {
        "id": "0iMWnVhS8qjx"
      },
      "outputs": [],
      "source": [
        "import sqlite3\n",
        "\n",
        "#This statement creates a connection labelled as conn.  This will be used throughout to ensure the consistency for when we start to query the database tables.\n",
        "conn = sqlite3.connect('student_grades.db')\n",
        "cursor = conn.cursor()\n",
        "\n",
        "#create the student table - we've set the ID to be a primary key.  Is it good to create the primary key as an TEXT string.\n",
        "cursor.execute('''\n",
        "CREATE TABLE IF NOT EXISTS student (\n",
        "  ID TEXT PRIMARY KEY,\n",
        "  First TEXT NOT NULL,\n",
        "  Last TEXT NOT NULL\n",
        ")\n",
        "''')\n",
        "\n",
        "#create the grade table - no primary key provided.  As students can exist multiple times in the table as can a course.\n",
        "cursor.execute('''\n",
        "CREATE TABLE IF NOT EXISTS grade (\n",
        "  ID TEXT,\n",
        "  Code TEXT NOT NULL,\n",
        "  Mark INTEGER NOT NULL\n",
        ")\n",
        "''')\n",
        "\n",
        "#create the course table - primary key provided again set as TEXT.\n",
        "cursor.execute('''\n",
        "CREATE TABLE IF NOT EXISTS course (\n",
        "  Code TEXT PRIMARY KEY,\n",
        "  Title TEXT NOT NULL\n",
        ")\n",
        "''')\n",
        "\n",
        "#This saves the chnages to the databae.  Up unitl this point the executed SQL statement isn't stored, changes are not immediatley saved.\n",
        "conn.commit()\n",
        "#conn.close()\n",
        "print(\"Database and tables created successfully!\")\n"
      ]
    },
    {
      "cell_type": "markdown",
      "source": [
        "**STEP 2: Check Tables Created:**\n",
        "\n",
        "Run the command to show the database tables created and the structure."
      ],
      "metadata": {
        "id": "bQ8lr_HEViN3"
      }
    },
    {
      "cell_type": "code",
      "source": [
        "# prompt: show the table structures\n",
        "\n",
        "#import sqlite3\n",
        "\n",
        "#conn = sqlite3.connect('student_grades.db')\n",
        "#cursor = conn.cursor()\n",
        "\n",
        "cursor.execute(\"SELECT name FROM sqlite_master WHERE type='table';\")\n",
        "tables = cursor.fetchall()\n",
        "\n",
        "for table_name in tables:\n",
        "    print(f\"Table: {table_name[0]}\")\n",
        "    cursor.execute(f\"PRAGMA table_info({table_name[0]});\")\n",
        "    columns = cursor.fetchall()\n",
        "    for col in columns:\n",
        "        print(f\"  Column: {col[1]}, Type: {col[2]}, NotNull: {col[3]}, DefaultVal: {col[4]}, PrimaryKey: {col[5]}\")\n",
        "    print(\"-\" * 20)\n",
        "\n",
        "#conn.close()\n"
      ],
      "metadata": {
        "id": "7YAxyXoB9rN_"
      },
      "execution_count": null,
      "outputs": []
    },
    {
      "cell_type": "markdown",
      "source": [
        "**STEP 3: Upload Files:**\n",
        "\n",
        "Run this box three times to upload the relevant csv files.\n",
        "\n",
        "Course_Table.csv, Student_Table.csv & Grade_table.csv"
      ],
      "metadata": {
        "id": "BH7SbcUPWPcS"
      }
    },
    {
      "cell_type": "code",
      "source": [
        "\n",
        "\n",
        "from google.colab import files\n",
        "uploaded = files.upload()\n",
        "for fn in uploaded.keys():\n",
        "  print('User uploaded file \"{name}\" with length {length} bytes'.format(\n",
        "      name=fn, length=len(uploaded[fn])))\n"
      ],
      "metadata": {
        "colab": {
          "base_uri": "https://localhost:8080/",
          "height": 38
        },
        "id": "8obMdgpiV46v",
        "outputId": "a35d4317-a592-40bc-913a-f5780fd05a3e"
      },
      "execution_count": null,
      "outputs": [
        {
          "output_type": "display_data",
          "data": {
            "text/plain": [
              "<IPython.core.display.HTML object>"
            ],
            "text/html": [
              "\n",
              "     <input type=\"file\" id=\"files-09570c56-235a-40fe-bfe8-79383651b184\" name=\"files[]\" multiple disabled\n",
              "        style=\"border:none\" />\n",
              "     <output id=\"result-09570c56-235a-40fe-bfe8-79383651b184\">\n",
              "      Upload widget is only available when the cell has been executed in the\n",
              "      current browser session. Please rerun this cell to enable.\n",
              "      </output>\n",
              "      <script>// Copyright 2017 Google LLC\n",
              "//\n",
              "// Licensed under the Apache License, Version 2.0 (the \"License\");\n",
              "// you may not use this file except in compliance with the License.\n",
              "// You may obtain a copy of the License at\n",
              "//\n",
              "//      http://www.apache.org/licenses/LICENSE-2.0\n",
              "//\n",
              "// Unless required by applicable law or agreed to in writing, software\n",
              "// distributed under the License is distributed on an \"AS IS\" BASIS,\n",
              "// WITHOUT WARRANTIES OR CONDITIONS OF ANY KIND, either express or implied.\n",
              "// See the License for the specific language governing permissions and\n",
              "// limitations under the License.\n",
              "\n",
              "/**\n",
              " * @fileoverview Helpers for google.colab Python module.\n",
              " */\n",
              "(function(scope) {\n",
              "function span(text, styleAttributes = {}) {\n",
              "  const element = document.createElement('span');\n",
              "  element.textContent = text;\n",
              "  for (const key of Object.keys(styleAttributes)) {\n",
              "    element.style[key] = styleAttributes[key];\n",
              "  }\n",
              "  return element;\n",
              "}\n",
              "\n",
              "// Max number of bytes which will be uploaded at a time.\n",
              "const MAX_PAYLOAD_SIZE = 100 * 1024;\n",
              "\n",
              "function _uploadFiles(inputId, outputId) {\n",
              "  const steps = uploadFilesStep(inputId, outputId);\n",
              "  const outputElement = document.getElementById(outputId);\n",
              "  // Cache steps on the outputElement to make it available for the next call\n",
              "  // to uploadFilesContinue from Python.\n",
              "  outputElement.steps = steps;\n",
              "\n",
              "  return _uploadFilesContinue(outputId);\n",
              "}\n",
              "\n",
              "// This is roughly an async generator (not supported in the browser yet),\n",
              "// where there are multiple asynchronous steps and the Python side is going\n",
              "// to poll for completion of each step.\n",
              "// This uses a Promise to block the python side on completion of each step,\n",
              "// then passes the result of the previous step as the input to the next step.\n",
              "function _uploadFilesContinue(outputId) {\n",
              "  const outputElement = document.getElementById(outputId);\n",
              "  const steps = outputElement.steps;\n",
              "\n",
              "  const next = steps.next(outputElement.lastPromiseValue);\n",
              "  return Promise.resolve(next.value.promise).then((value) => {\n",
              "    // Cache the last promise value to make it available to the next\n",
              "    // step of the generator.\n",
              "    outputElement.lastPromiseValue = value;\n",
              "    return next.value.response;\n",
              "  });\n",
              "}\n",
              "\n",
              "/**\n",
              " * Generator function which is called between each async step of the upload\n",
              " * process.\n",
              " * @param {string} inputId Element ID of the input file picker element.\n",
              " * @param {string} outputId Element ID of the output display.\n",
              " * @return {!Iterable<!Object>} Iterable of next steps.\n",
              " */\n",
              "function* uploadFilesStep(inputId, outputId) {\n",
              "  const inputElement = document.getElementById(inputId);\n",
              "  inputElement.disabled = false;\n",
              "\n",
              "  const outputElement = document.getElementById(outputId);\n",
              "  outputElement.innerHTML = '';\n",
              "\n",
              "  const pickedPromise = new Promise((resolve) => {\n",
              "    inputElement.addEventListener('change', (e) => {\n",
              "      resolve(e.target.files);\n",
              "    });\n",
              "  });\n",
              "\n",
              "  const cancel = document.createElement('button');\n",
              "  inputElement.parentElement.appendChild(cancel);\n",
              "  cancel.textContent = 'Cancel upload';\n",
              "  const cancelPromise = new Promise((resolve) => {\n",
              "    cancel.onclick = () => {\n",
              "      resolve(null);\n",
              "    };\n",
              "  });\n",
              "\n",
              "  // Wait for the user to pick the files.\n",
              "  const files = yield {\n",
              "    promise: Promise.race([pickedPromise, cancelPromise]),\n",
              "    response: {\n",
              "      action: 'starting',\n",
              "    }\n",
              "  };\n",
              "\n",
              "  cancel.remove();\n",
              "\n",
              "  // Disable the input element since further picks are not allowed.\n",
              "  inputElement.disabled = true;\n",
              "\n",
              "  if (!files) {\n",
              "    return {\n",
              "      response: {\n",
              "        action: 'complete',\n",
              "      }\n",
              "    };\n",
              "  }\n",
              "\n",
              "  for (const file of files) {\n",
              "    const li = document.createElement('li');\n",
              "    li.append(span(file.name, {fontWeight: 'bold'}));\n",
              "    li.append(span(\n",
              "        `(${file.type || 'n/a'}) - ${file.size} bytes, ` +\n",
              "        `last modified: ${\n",
              "            file.lastModifiedDate ? file.lastModifiedDate.toLocaleDateString() :\n",
              "                                    'n/a'} - `));\n",
              "    const percent = span('0% done');\n",
              "    li.appendChild(percent);\n",
              "\n",
              "    outputElement.appendChild(li);\n",
              "\n",
              "    const fileDataPromise = new Promise((resolve) => {\n",
              "      const reader = new FileReader();\n",
              "      reader.onload = (e) => {\n",
              "        resolve(e.target.result);\n",
              "      };\n",
              "      reader.readAsArrayBuffer(file);\n",
              "    });\n",
              "    // Wait for the data to be ready.\n",
              "    let fileData = yield {\n",
              "      promise: fileDataPromise,\n",
              "      response: {\n",
              "        action: 'continue',\n",
              "      }\n",
              "    };\n",
              "\n",
              "    // Use a chunked sending to avoid message size limits. See b/62115660.\n",
              "    let position = 0;\n",
              "    do {\n",
              "      const length = Math.min(fileData.byteLength - position, MAX_PAYLOAD_SIZE);\n",
              "      const chunk = new Uint8Array(fileData, position, length);\n",
              "      position += length;\n",
              "\n",
              "      const base64 = btoa(String.fromCharCode.apply(null, chunk));\n",
              "      yield {\n",
              "        response: {\n",
              "          action: 'append',\n",
              "          file: file.name,\n",
              "          data: base64,\n",
              "        },\n",
              "      };\n",
              "\n",
              "      let percentDone = fileData.byteLength === 0 ?\n",
              "          100 :\n",
              "          Math.round((position / fileData.byteLength) * 100);\n",
              "      percent.textContent = `${percentDone}% done`;\n",
              "\n",
              "    } while (position < fileData.byteLength);\n",
              "  }\n",
              "\n",
              "  // All done.\n",
              "  yield {\n",
              "    response: {\n",
              "      action: 'complete',\n",
              "    }\n",
              "  };\n",
              "}\n",
              "\n",
              "scope.google = scope.google || {};\n",
              "scope.google.colab = scope.google.colab || {};\n",
              "scope.google.colab._files = {\n",
              "  _uploadFiles,\n",
              "  _uploadFilesContinue,\n",
              "};\n",
              "})(self);\n",
              "</script> "
            ]
          },
          "metadata": {}
        }
      ]
    },
    {
      "cell_type": "markdown",
      "source": [
        "**STEP 4: Load CSV files into the database tables:**\n",
        "\n",
        "This will populate the database tables with the data from teh csv files.  No need to write INSERT statements.\n",
        "\n",
        "You need to make sure the correct files are loaded into the corresponding tables."
      ],
      "metadata": {
        "id": "PQVFAIgNW9I6"
      }
    },
    {
      "cell_type": "code",
      "source": [
        "\n",
        "def import_csv_to_table(csv_file, table_name):\n",
        "    #opens the file aas read only 'r', doesn't allow the origianl csv to be changed.\n",
        "    with open(csv_file, 'r', encoding='utf-8') as file:\n",
        "        csv_reader = csv.reader(file)\n",
        "        next(csv_reader)  # Skip header row if present\n",
        "        for row in csv_reader:\n",
        "            #? creates a placeholder for each column in the CSV file. ['?','?','?'] - Join makes it a string so it can then be inserted.\n",
        "            # use of the '?' reduce risk of SQL injection\n",
        "            placeholders = ', '.join(['?' for _ in row])\n",
        "            #Assumes that the CSV and table have the same structure (this could be an issue) Would have to specify column names if different.\n",
        "            sql = f\"INSERT INTO {table_name} VALUES ({placeholders})\"\n",
        "            cursor.execute(sql, row)\n",
        "\n",
        "# Import data from CSV files into the relevant table - Student_Table goes into student table.  teh import_csv_to_table is the function, passing the two values across.\n",
        "try:\n",
        "    import_csv_to_table('Student_Table.csv', 'student')\n",
        "    import_csv_to_table('Course_Table.csv', 'course')\n",
        "    import_csv_to_table('Grade_Table.csv', 'grade')\n",
        "    conn.commit()\n",
        "    print(\"Data imported successfully!\")\n",
        "except Exception as e:\n",
        "    print(f\"An error occurred: {e}\")\n",
        "    conn.rollback()  # Rollback changes if an error occurred\n",
        "\n"
      ],
      "metadata": {
        "colab": {
          "base_uri": "https://localhost:8080/"
        },
        "id": "ed0T4gXZLTD4",
        "outputId": "8eb9e845-de53-49c5-a3f2-ec1a49f77c59"
      },
      "execution_count": null,
      "outputs": [
        {
          "output_type": "stream",
          "name": "stdout",
          "text": [
            "Data imported successfully!\n"
          ]
        }
      ]
    },
    {
      "cell_type": "markdown",
      "source": [
        "**STEP 5: Check Data has loaded**\n",
        "\n",
        "Query each database table and load the data into a dataframe and display the first 5 lines"
      ],
      "metadata": {
        "id": "d3ozIMAAauOx"
      }
    },
    {
      "cell_type": "code",
      "source": [
        "# Query all three tables and load into pandas DataFrames\n",
        "student_df = pd.read_sql_query(\"SELECT * FROM student\", conn)\n",
        "grade_df = pd.read_sql_query(\"SELECT * FROM grade\", conn)\n",
        "course_df = pd.read_sql_query(\"SELECT * FROM course\", conn)\n",
        "\n",
        "# Show the first 5 lines of each DataFrame\n",
        "print(\"Student Table:\")\n",
        "print(student_df.head(5))\n",
        "print(\"\\nGrade Table:\")\n",
        "print(grade_df.head(5))\n",
        "print(\"\\nCourse Table:\")\n",
        "print(course_df.head(5))\n",
        "\n",
        "\n"
      ],
      "metadata": {
        "id": "plFao_d5O3A8"
      },
      "execution_count": null,
      "outputs": []
    },
    {
      "cell_type": "markdown",
      "source": [
        "**ONLY RUN IF YOU NEED TO DELETE THE DATA IN THE TABLES**\n",
        "\n",
        "If you run go back to **STEP 4** and re-run from there."
      ],
      "metadata": {
        "id": "9w8NuN4VcuWm"
      }
    },
    {
      "cell_type": "code",
      "source": [
        "# only run if you need to reset the tables without deleting the databae and starting again - then re-run the box previous box.\n",
        "# Delete all data from the tables\n",
        "cursor.execute(\"DELETE FROM student\")\n",
        "cursor.execute(\"DELETE FROM grade\")\n",
        "cursor.execute(\"DELETE FROM course\")\n",
        "\n",
        "conn.commit()\n",
        "print(\"All data deleted from the tables successfully!\")\n",
        "\n"
      ],
      "metadata": {
        "colab": {
          "base_uri": "https://localhost:8080/"
        },
        "id": "4qcmP5_uaSgy",
        "outputId": "0e0399d7-c820-4554-9b4e-1748b0363a26"
      },
      "execution_count": null,
      "outputs": [
        {
          "output_type": "stream",
          "name": "stdout",
          "text": [
            "All data deleted from the tables successfully!\n"
          ]
        }
      ]
    },
    {
      "cell_type": "markdown",
      "source": [
        "**STEP 6: SQL Select statements**\n",
        "\n",
        "Run the following statements.  Please ask yoursefl the impact of each one before running.\n",
        "\n",
        "\n"
      ],
      "metadata": {
        "id": "3AzaswOOdNnH"
      }
    },
    {
      "cell_type": "code",
      "source": [
        "# Select all columns from the student table\n",
        "student_df = pd.read_sql_query(\"SELECT * FROM student\", conn)\n",
        "\n",
        "#What should the output be.\n",
        "print(student_df)\n",
        "\n"
      ],
      "metadata": {
        "id": "IVinXfbjdUx0"
      },
      "execution_count": null,
      "outputs": []
    },
    {
      "cell_type": "code",
      "source": [
        "# Select Last from the student table\n",
        "studentLast_df = pd.read_sql_query(\"SELECT ALL Last FROM student\", conn)\n",
        "\n",
        "#What should the output be.\n",
        "print(studentLast_df)\n",
        "\n"
      ],
      "metadata": {
        "id": "YudMnn4Je5u8"
      },
      "execution_count": null,
      "outputs": []
    },
    {
      "cell_type": "code",
      "source": [
        "# Select DISTINCT last names from the student table\n",
        "studentLastUnique_df = pd.read_sql_query(\"SELECT DISTINCT Last FROM student\", conn)\n",
        "\n",
        "#What should the output be.   What does this tell you from the previous outputs?\n",
        "print(studentLastUnique_df)\n",
        "\n"
      ],
      "metadata": {
        "id": "briaPGkHfIqf"
      },
      "execution_count": null,
      "outputs": []
    },
    {
      "cell_type": "code",
      "source": [
        "# Select DISTINCT First from the student table - modify the query\n",
        "studentFirstUnique_df = pd.read_sql_query(\"SELECT DISTINCT <INSERT> FROM student\", conn)\n",
        "\n",
        "#What should the output be?  What does this tell you from the previous outputs?\n",
        "print(studentXXXXXUnique_df)"
      ],
      "metadata": {
        "id": "4AEN9vkGfhWO"
      },
      "execution_count": null,
      "outputs": []
    },
    {
      "cell_type": "markdown",
      "source": [
        "**STEP 7: SELECT with WHERE**"
      ],
      "metadata": {
        "id": "uf1Qw4a9gPMe"
      }
    },
    {
      "cell_type": "code",
      "source": [
        "# Select Last from the student table\n",
        "studentWhere_df = pd.read_sql_query(\"SELECT * FROM grade WHERE Mark > 60\", conn)\n",
        "\n",
        "#What should the output be.\n",
        "print(studentWhere_df)"
      ],
      "metadata": {
        "id": "GMd1ShLkgObi"
      },
      "execution_count": null,
      "outputs": []
    },
    {
      "cell_type": "code",
      "source": [
        "#export the dataframe to csv for further analysis\n",
        "#the index=False means no row numbers are exported.\n",
        "#change index to True and compare the outputs.  Youll need to download formthe Files window\n",
        "\n",
        "studentWhere_df.to_csv('Grades_Over_60.csv', index=True)\n"
      ],
      "metadata": {
        "id": "d5cim_4ygrd7"
      },
      "execution_count": null,
      "outputs": []
    },
    {
      "cell_type": "markdown",
      "source": [
        "**TASK**\n",
        "\n",
        "Create a statement to select all students that have passed the Finance Management Course and export the file to CSV.\n",
        "\n",
        "Just using standard select statments.\n",
        "\n",
        "How would you tackle the problem."
      ],
      "metadata": {
        "id": "Q3QXPagrhoXN"
      }
    },
    {
      "cell_type": "code",
      "source": [
        "#review the structure of the grades table and the course table\n",
        "print(\"\\nGrade Table:\")\n",
        "print(grade_df.head(5))\n",
        "print(\"\\nCourse Table:\")\n",
        "print(course_df.head(5))"
      ],
      "metadata": {
        "id": "A8ZzgmF8hmvK"
      },
      "execution_count": null,
      "outputs": []
    },
    {
      "cell_type": "code",
      "source": [
        "#select the course code from the course table for the Finance Management Course\n",
        "studentCourse_df = pd.read_sql_query(\"SELECT <WHAT> FROM <TABLE> WHERE <FIELD> = '<VALUE>'\", conn)\n",
        "\n",
        "print(studentCourse_df)"
      ],
      "metadata": {
        "id": "sdeCnXWbjWRR"
      },
      "execution_count": null,
      "outputs": []
    },
    {
      "cell_type": "code",
      "source": [
        "#select student ID and Mark for the Finance Management Course\n",
        "studentCourseMark_df = pd.read_sql_query(\"SELECT <WHAT> FROM <TABLE> WHERE <FIELD> = '<VALUE>'\", conn)\n",
        "\n",
        "print(studentCourseMark_df)"
      ],
      "metadata": {
        "id": "vpDF6Ommjt4r"
      },
      "execution_count": null,
      "outputs": []
    },
    {
      "cell_type": "markdown",
      "source": [
        "**STEP 8: Select from multiple tables in one statement**\n",
        "\n",
        "This can cause issues where tables have hte same column names in different tables.  \n",
        "\n",
        "To resolve this we need to make use of the following syntax:\n",
        "TableName.Column"
      ],
      "metadata": {
        "id": "bDQrjImKn-pl"
      }
    },
    {
      "cell_type": "code",
      "source": [
        "#select the following coloumns:  First, Last & Mark from the Student and Grade tables\n",
        "studentMarks_df = pd.read_sql_query(\"SELECT First, Last, Mark FROM student, grade WHERE (student.ID = grade.ID)\", conn)\n",
        "\n",
        "print(studentMarks_df)\n"
      ],
      "metadata": {
        "id": "WLQb3aqSkawk"
      },
      "execution_count": null,
      "outputs": []
    },
    {
      "cell_type": "markdown",
      "source": [
        "**TASK**\n",
        "\n",
        "Modify the statement to get all the students that acheived a mark over 50"
      ],
      "metadata": {
        "id": "t49tIdCGrpzP"
      }
    },
    {
      "cell_type": "code",
      "source": [
        "#select the following coloumns:  First, Last & Mark from the Student and Grade tables\n",
        "studentMarks_df = pd.read_sql_query(\"SELECT First, Last, Mark FROM student, grade WHERE (Student.ID = Grade.ID)\", conn)\n",
        "\n",
        "print(studentMarks_df)"
      ],
      "metadata": {
        "id": "quqbECBNrojM"
      },
      "execution_count": null,
      "outputs": []
    },
    {
      "cell_type": "code",
      "source": [
        "#select the following coloumns:  First, Last & Mark from the Student and Grade tables\n",
        "studentMarks_df = pd.read_sql_query(\"<INSERT QUERY>\", conn)\n",
        "\n",
        "print(studentMarks_df)"
      ],
      "metadata": {
        "id": "UzCc4cSss9y9"
      },
      "execution_count": null,
      "outputs": []
    },
    {
      "cell_type": "code",
      "source": [
        "#modify the query to gather the 'Finance Management Course and all studnet that obtained a mark between 55 and 65\n",
        "studentMarks_df = pd.read_sql_query(\"<INSERT QUERY>\", conn)\n",
        "\n",
        "print(studentMarks_df)"
      ],
      "metadata": {
        "id": "kjayKT-Ot0ei"
      },
      "execution_count": null,
      "outputs": []
    },
    {
      "cell_type": "markdown",
      "source": [
        "**STEP 9: ORDER BY statements**\n",
        "\n",
        "Can be set to be either ASC or DESC.  The syntax is ORDER BY added to the select statement."
      ],
      "metadata": {
        "id": "zkc1rMFpvcXL"
      }
    },
    {
      "cell_type": "code",
      "source": [
        "studentMarks_df = pd.read_sql_query(\"SELECT * FROM grade ORDER BY Mark DESC\", conn)\n",
        "\n",
        "print (studentMarks_df)"
      ],
      "metadata": {
        "id": "20mZYXZ6vbrQ"
      },
      "execution_count": null,
      "outputs": []
    },
    {
      "cell_type": "markdown",
      "source": [
        "**TASK**\n",
        "\n",
        "Modify the statement to order by Course Code and then Mark"
      ],
      "metadata": {
        "id": "ScvbtC-lwLjG"
      }
    },
    {
      "cell_type": "code",
      "source": [
        "studentMarks_df = pd.read_sql_query(\"SELECT * FROM grade ORDER BY Mark DESC\", conn)\n",
        "print (studentMarks_df)"
      ],
      "metadata": {
        "id": "y1X-2VMFwKMP"
      },
      "execution_count": null,
      "outputs": []
    },
    {
      "cell_type": "markdown",
      "source": [
        "Modify the statement to order by Code, Mark and obtain the student Name.  Only show Name and Mark for Course Id"
      ],
      "metadata": {
        "id": "lDfIGibuwge-"
      }
    },
    {
      "cell_type": "code",
      "source": [
        "studentMarks_df = pd.read_sql_query(\"SELECT * FROM grade ORDER BY Mark DESC\", conn)\n",
        "print (studentMarks_df)"
      ],
      "metadata": {
        "id": "ObTYxMkewsvb"
      },
      "execution_count": null,
      "outputs": []
    },
    {
      "cell_type": "markdown",
      "source": [
        "Modify the statement to select for a specific course and display the course code and title, order by the grade ASC - Statistics For Python"
      ],
      "metadata": {
        "id": "71JnG0EAxRia"
      }
    },
    {
      "cell_type": "code",
      "source": [
        "studentMarks_df = pd.read_sql_query(\"SELECT First, Last, Mark, Course.Code, Title FROM grade, student, course WHERE (student.id = grade.id) AND (course.title = 'Statistics For Python') ORDER BY Mark ASC\", conn)\n",
        "print (studentMarks_df)"
      ],
      "metadata": {
        "id": "vT46ydLmxLdK"
      },
      "execution_count": null,
      "outputs": []
    },
    {
      "cell_type": "markdown",
      "source": [
        "**STEP 10: Arthimatic and Aggregating functions**\n",
        "\n",
        "Simple arithmatic on the columns.  \n",
        "\n",
        "When running we make use of AS - to make better readibility for the column name."
      ],
      "metadata": {
        "id": "3UJE1ltfzzQ3"
      }
    },
    {
      "cell_type": "code",
      "source": [
        "#simple Adding values, Subtracting Values, Multiplyig Values:\n",
        "studentCount_df = pd.read_sql_query(\"SELECT Mark, Mark/2 AS DIVIDED, Mark*2 AS DOUBLED, MArk+10 AS MODERATED FROM grade\", conn)\n",
        "print (studentCount_df)"
      ],
      "metadata": {
        "id": "eirT61et1anI"
      },
      "execution_count": null,
      "outputs": []
    },
    {
      "cell_type": "code",
      "source": [
        "#simple Count:  Count up the rows:\n",
        "studentCount_df = pd.read_sql_query(\"SELECT COUNT(*) AS COUNT FROM grade\", conn)\n",
        "print (studentCount_df)"
      ],
      "metadata": {
        "id": "vNroUrDEzzCx"
      },
      "execution_count": null,
      "outputs": []
    },
    {
      "cell_type": "code",
      "source": [
        "#simple SUM for the column values\n",
        "studentCount_df = pd.read_sql_query(\"SELECT SUM(mark) AS TOTAL FROM grade\", conn)\n",
        "print (studentCount_df)"
      ],
      "metadata": {
        "id": "Gdob7mt_0igF"
      },
      "execution_count": null,
      "outputs": []
    },
    {
      "cell_type": "code",
      "source": [
        "#simple MAX for the column values\n",
        "studentCount_df = pd.read_sql_query(\"SELECT MAX(mark) AS BEST FROM grade\", conn)\n",
        "print (studentCount_df)\n",
        "\n",
        "#modify to print the Lowest Mark"
      ],
      "metadata": {
        "id": "D-rd8cG41F0H"
      },
      "execution_count": null,
      "outputs": []
    },
    {
      "cell_type": "markdown",
      "source": [
        "**TASK**\n",
        "\n",
        "How would you calculate the RANGE of values in the marks column."
      ],
      "metadata": {
        "id": "BJwQJ5n52cvg"
      }
    },
    {
      "cell_type": "code",
      "source": [
        "studentCount_df = pd.read_sql_query(\"SELECT <WHAT> AS <WHAT> FROM <WHERE>\", conn)\n",
        "print (studentCount_df)"
      ],
      "metadata": {
        "id": "sJOJepFw2cet"
      },
      "execution_count": null,
      "outputs": []
    },
    {
      "cell_type": "markdown",
      "source": [
        "How would you find a specific students marks for all modules taken and the average mark.\n",
        "\n",
        "The student is Laura Smith\n",
        "\n"
      ],
      "metadata": {
        "id": "tKMS1T133I5V"
      }
    },
    {
      "cell_type": "code",
      "source": [
        "studentMarks_df = pd.read_sql_query(\"SELECT <WHAT> AS <WHAT> FROM <WHERE>\", conn)\n",
        "print (studentMarks_df)"
      ],
      "metadata": {
        "id": "unqhny4E3H1B"
      },
      "execution_count": null,
      "outputs": []
    },
    {
      "cell_type": "markdown",
      "source": [
        "**STEP 11: Group BY Statements**\n",
        "\n",
        "When we need to pull a group of rows together and carry out an aggregation of data."
      ],
      "metadata": {
        "id": "JMI7cvhk6qOZ"
      }
    },
    {
      "cell_type": "code",
      "source": [
        "studentGroup_df = pd.read_sql_query(\"SELECT AVG(Mark), Code AS AVERAGE FROM grade GROUP BY Code\", conn)\n",
        "print (studentGroup_df)"
      ],
      "metadata": {
        "id": "nV_GcrqQ9QZz"
      },
      "execution_count": null,
      "outputs": []
    },
    {
      "cell_type": "markdown",
      "source": [
        "**TASK**\n",
        "\n",
        "Create a query to show the First, Last name of the student and there average grade across all modules."
      ],
      "metadata": {
        "id": "9oa6vYCs9fIS"
      }
    },
    {
      "cell_type": "code",
      "source": [
        "studentGroup_df = pd.read_sql_query(\"<INSERT YOUR QUERY>\", conn)\n",
        "print (studentGroup_df)\n",
        "\n",
        "#modify the query to order by AVERAGE grade DESC"
      ],
      "metadata": {
        "id": "3M_A0f1n6pVu"
      },
      "execution_count": null,
      "outputs": []
    },
    {
      "cell_type": "markdown",
      "source": [
        "We can use HAVING to repalce a WHERE when we have items that have been grouped together."
      ],
      "metadata": {
        "id": "m874It_P-_dd"
      }
    },
    {
      "cell_type": "code",
      "source": [
        "#using your above query identify stuent that have an AVG of more then 65\n",
        "studentGroup_df = pd.read_sql_query(\"<INSERT QUERY HERE>\", conn)\n",
        "print (studentGroup_df)\n",
        "\n",
        "#how would you change this so it's between 52 AND 58"
      ],
      "metadata": {
        "id": "QV7-gV4i_Jtw"
      },
      "execution_count": null,
      "outputs": []
    },
    {
      "cell_type": "markdown",
      "source": [
        "**STEP 12: Using JOINS**\n",
        "\n",
        "Cross JOIN A & B - retunrs all pairs of rows from A and B\n",
        "\n",
        "Natural JOIN A & B - returns pairs of rwos with comon values for idnetical names columns and without dupilcating columns\n",
        "\n",
        "Inner JOIN A & B - returns pairs of rows satisfying a condition"
      ],
      "metadata": {
        "id": "elcg_9P2DpG5"
      }
    },
    {
      "cell_type": "code",
      "source": [
        "#CROSS JOIN\n",
        "studentJoin_df = pd.read_sql_query(\"SELECT * FROM student CROSS JOIN grade\", conn)\n",
        "print (studentJoin_df)"
      ],
      "metadata": {
        "id": "O_0ysJtkDo76"
      },
      "execution_count": null,
      "outputs": []
    },
    {
      "cell_type": "code",
      "source": [
        "#NATURAL JOIN\n",
        "studentJoin_df = pd.read_sql_query(\"SELECT * FROM student NATURAL JOIN grade\", conn)\n",
        "print (studentJoin_df)"
      ],
      "metadata": {
        "id": "79UIMRzvE8Cq"
      },
      "execution_count": null,
      "outputs": []
    },
    {
      "cell_type": "code",
      "source": [
        "#INNER JOIN\n",
        "studentJoin_df = pd.read_sql_query(\"SELECT * FROM student INNER JOIN grade USING (ID)\", conn)\n",
        "print (studentJoin_df)"
      ],
      "metadata": {
        "id": "PMKnT-bwFRbL"
      },
      "execution_count": null,
      "outputs": []
    },
    {
      "cell_type": "code",
      "source": [],
      "metadata": {
        "id": "xrJ96WysGR-u"
      },
      "execution_count": null,
      "outputs": []
    }
  ]
}