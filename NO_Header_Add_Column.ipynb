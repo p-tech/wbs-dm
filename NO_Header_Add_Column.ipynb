{
  "nbformat": 4,
  "nbformat_minor": 0,
  "metadata": {
    "colab": {
      "provenance": [],
      "authorship_tag": "ABX9TyM+d+r+kK0LrEk07OMXis0T",
      "include_colab_link": true
    },
    "kernelspec": {
      "name": "python3",
      "display_name": "Python 3"
    },
    "language_info": {
      "name": "python"
    }
  },
  "cells": [
    {
      "cell_type": "markdown",
      "metadata": {
        "id": "view-in-github",
        "colab_type": "text"
      },
      "source": [
        "<a href=\"https://colab.research.google.com/github/p-tech/wbs-dm/blob/main/NO_Header_Add_Column.ipynb\" target=\"_parent\"><img src=\"https://colab.research.google.com/assets/colab-badge.svg\" alt=\"Open In Colab\"/></a>"
      ]
    },
    {
      "cell_type": "markdown",
      "source": [
        "Step 1: Import pandas"
      ],
      "metadata": {
        "id": "iNcvgIgWwpDG"
      }
    },
    {
      "cell_type": "code",
      "execution_count": null,
      "metadata": {
        "id": "WogefL6iwJYG"
      },
      "outputs": [],
      "source": [
        "import pandas as pd\n",
        "\n",
        "# Install pandas if not already installed\n",
        "!pip install pandas\n"
      ]
    },
    {
      "cell_type": "markdown",
      "source": [
        "# Working with CSV files:\n",
        "Load a mnist_test.csv file into a dataframe - labelled as df"
      ],
      "metadata": {
        "id": "Dq__S3hRw7Sz"
      }
    },
    {
      "cell_type": "code",
      "source": [
        "df = pd.read_csv('People_data_noheader.csv')\n",
        "\n"
      ],
      "metadata": {
        "id": "5dNpSphcxAll"
      },
      "execution_count": 2,
      "outputs": []
    },
    {
      "cell_type": "markdown",
      "source": [
        "Show the first 5 lines of the csv file.\n"
      ],
      "metadata": {
        "id": "1IRbGjsIxlnJ"
      }
    },
    {
      "cell_type": "code",
      "source": [
        "df.head(10)"
      ],
      "metadata": {
        "id": "gRReu0fSxuFt"
      },
      "execution_count": null,
      "outputs": []
    },
    {
      "cell_type": "markdown",
      "source": [
        "Modify the above line of code to show the first 15 lines of the dataframe.\n",
        "Modify the above line of code to shwo the last 15 lines of the dataframe"
      ],
      "metadata": {
        "id": "kWSa1MSnyTeR"
      }
    },
    {
      "cell_type": "markdown",
      "source": [
        "Question:<br/>What do you observe about the data?"
      ],
      "metadata": {
        "id": "y52w2W1Lzu_k"
      }
    },
    {
      "cell_type": "markdown",
      "source": [
        "Load the same data into a new dataframe with default column names"
      ],
      "metadata": {
        "id": "-DtmkL78Knr0"
      }
    },
    {
      "cell_type": "code",
      "source": [
        "df_nh = pd.read_csv('People_data_noheader.csv', header=None)"
      ],
      "metadata": {
        "id": "6xA8Lcw_KJak"
      },
      "execution_count": 4,
      "outputs": []
    },
    {
      "cell_type": "code",
      "source": [
        "df_nh.head()"
      ],
      "metadata": {
        "id": "C7Z0oa-mKWz5"
      },
      "execution_count": null,
      "outputs": []
    },
    {
      "cell_type": "markdown",
      "source": [
        "Load the data with PreSet assigned Column Names:"
      ],
      "metadata": {
        "id": "dOlH2HDIKzg2"
      }
    },
    {
      "cell_type": "code",
      "source": [
        "headers = [\"Firstname\", \"Surname\", \"age\", \"salary\", \"occupation\", \"height\"]\n",
        "df_headers = pd.read_csv('People_data_noheader.csv', names=headers)\n",
        "\n",
        "df_headers.head(10)\n"
      ],
      "metadata": {
        "id": "tjm-HOnvJ9Wc"
      },
      "execution_count": null,
      "outputs": []
    },
    {
      "cell_type": "code",
      "source": [
        "# prompt: calculate the average salary\n",
        "\n",
        "# Calculate the average salary\n",
        "average_salary = df_headers['salary'].mean()\n",
        "print(f\"The average salary is: {average_salary}\")"
      ],
      "metadata": {
        "id": "Az7fq67SMhFD"
      },
      "execution_count": null,
      "outputs": []
    },
    {
      "cell_type": "code",
      "source": [
        "\n",
        "# Calculate the average salary\n",
        "average_salary = df_headers['salary'].mean()\n",
        "print(f\"The average salary is: {average_salary}\")\n",
        "\n",
        "# Add a new column 'High Value' and set it to 1 where salary > 40000\n",
        "df_headers['High Value'] = 0  # Initialize the column with 0\n",
        "df_headers.loc[df_headers['salary'] > 40000, 'High Value'] = 1\n",
        "\n",
        "print(df_headers.head(20))"
      ],
      "metadata": {
        "id": "Uhrvm62qvAF_"
      },
      "execution_count": null,
      "outputs": []
    },
    {
      "cell_type": "markdown",
      "source": [
        "Modify the code to calculate the average age / median age / median salary\n"
      ],
      "metadata": {
        "id": "Ma19nEnUMwmi"
      }
    },
    {
      "cell_type": "markdown",
      "source": [
        "How would you calculate a average height?"
      ],
      "metadata": {
        "id": "8LNux19YNvh-"
      }
    },
    {
      "cell_type": "code",
      "source": [
        "# Count the number of people with the occupation \"copy\"\n",
        "hv_count = df_headers[df_headers['High Value'] == 1].shape[0]\n",
        "\n",
        "print(f\"The number of people with the High Salary is: {hv_count}\")\n",
        "\n",
        "hv_average = df_headers[df_headers['High Value'] == 1]['salary'].mean()\n",
        "print(f\"The average salary of people with the High Salary is: {hv_average}\")"
      ],
      "metadata": {
        "id": "ZId77xwpyBEy"
      },
      "execution_count": null,
      "outputs": []
    },
    {
      "cell_type": "code",
      "source": [
        "# Count the number of people with the occupation \"copy\"\n",
        "lv_count = df_headers[df_headers['High Value'] == 0].shape[0]\n",
        "\n",
        "print(f\"The number of people with the Low Salary is: {lv_count}\")\n",
        "\n",
        "lv_average = df_headers[df_headers['High Value'] == 0]['salary'].mean()\n",
        "print(f\"The average salary of people with the Low Salary is: {lv_average}\")"
      ],
      "metadata": {
        "id": "mw_SODzDyYIl"
      },
      "execution_count": null,
      "outputs": []
    },
    {
      "cell_type": "code",
      "source": [
        "# prompt: export dataframe to csv\n",
        "\n",
        "# Export the dataframe to a CSV file\n",
        "df_headers.to_csv('exported_people_data.csv', index=False)"
      ],
      "metadata": {
        "id": "8QZf8sq9ypZ1"
      },
      "execution_count": null,
      "outputs": []
    }
  ]
}