{
  "nbformat": 4,
  "nbformat_minor": 0,
  "metadata": {
    "colab": {
      "provenance": [],
      "authorship_tag": "ABX9TyOvK9XfEDkkyktRfbrIqqyj",
      "include_colab_link": true
    },
    "kernelspec": {
      "name": "python3",
      "display_name": "Python 3"
    },
    "language_info": {
      "name": "python"
    }
  },
  "cells": [
    {
      "cell_type": "markdown",
      "metadata": {
        "id": "view-in-github",
        "colab_type": "text"
      },
      "source": [
        "<a href=\"https://colab.research.google.com/github/p-tech/wbs-dm/blob/main/Cardinality/1_M_Cardinalty.ipynb\" target=\"_parent\"><img src=\"https://colab.research.google.com/assets/colab-badge.svg\" alt=\"Open In Colab\"/></a>"
      ]
    },
    {
      "cell_type": "code",
      "execution_count": 1,
      "metadata": {
        "id": "xbAXxQ9bTkfT"
      },
      "outputs": [],
      "source": [
        "import sqlite3\n",
        "\n",
        "# Connect to the database (or create one)\n",
        "conn = sqlite3.connect(\"example.db\")\n",
        "cursor = conn.cursor()"
      ]
    },
    {
      "cell_type": "code",
      "source": [
        "# Create tables\n",
        "cursor.execute(\"\"\"\n",
        "    CREATE TABLE IF NOT EXISTS Customer (\n",
        "        id INTEGER PRIMARY KEY,\n",
        "        name TEXT\n",
        "    )\n",
        "\"\"\")\n",
        "\n",
        "cursor.execute(\"\"\"\n",
        "    CREATE TABLE IF NOT EXISTS Orders (\n",
        "        id INTEGER PRIMARY KEY,\n",
        "        customer_id INTEGER,\n",
        "        order_date TEXT,\n",
        "        FOREIGN KEY (customer_id) REFERENCES Customer (id)\n",
        "    )\n",
        "\"\"\")\n",
        "\n",
        "# Insert data\n",
        "cursor.execute(\"INSERT INTO Customer (id, name) VALUES (1, 'Bob')\")\n",
        "cursor.execute(\"INSERT INTO Orders (id, customer_id, order_date) VALUES (1, 1, '2025-02-25')\")\n",
        "cursor.execute(\"INSERT INTO Orders (id, customer_id, order_date) VALUES (2, 1, '2025-02-26')\")\n",
        "conn.commit()"
      ],
      "metadata": {
        "id": "nhtmPoMtTpiM"
      },
      "execution_count": 2,
      "outputs": []
    },
    {
      "cell_type": "code",
      "source": [
        "cursor.execute(\"\"\"\n",
        "    SELECT Customer.name, Orders.order_date\n",
        "    FROM Customer\n",
        "    JOIN Orders ON Customer.id = Orders.customer_id\n",
        "\"\"\")\n",
        "print(cursor.fetchall())  # Output: [('Bob', '2025-02-25'), ('Bob', '2025-02-26')]"
      ],
      "metadata": {
        "colab": {
          "base_uri": "https://localhost:8080/"
        },
        "id": "SlHCe9zKTusY",
        "outputId": "b978f26d-d6d5-41d9-aa15-34975fbfc489"
      },
      "execution_count": 3,
      "outputs": [
        {
          "output_type": "stream",
          "name": "stdout",
          "text": [
            "[('Bob', '2025-02-25'), ('Bob', '2025-02-26')]\n"
          ]
        }
      ]
    }
  ]
}