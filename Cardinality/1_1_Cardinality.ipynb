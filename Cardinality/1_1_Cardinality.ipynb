{
  "nbformat": 4,
  "nbformat_minor": 0,
  "metadata": {
    "colab": {
      "provenance": [],
      "authorship_tag": "ABX9TyP2jfzGbP/sMp4+A3b9L5kT",
      "include_colab_link": true
    },
    "kernelspec": {
      "name": "python3",
      "display_name": "Python 3"
    },
    "language_info": {
      "name": "python"
    }
  },
  "cells": [
    {
      "cell_type": "markdown",
      "metadata": {
        "id": "view-in-github",
        "colab_type": "text"
      },
      "source": [
        "<a href=\"https://colab.research.google.com/github/p-tech/wbs-dm/blob/main/Cardinality/1_1_Cardinality.ipynb\" target=\"_parent\"><img src=\"https://colab.research.google.com/assets/colab-badge.svg\" alt=\"Open In Colab\"/></a>"
      ]
    },
    {
      "cell_type": "code",
      "source": [
        "import sqlite3\n",
        "\n",
        "# Connect to the database (or create one)\n",
        "conn = sqlite3.connect(\"example.db\")\n",
        "cursor = conn.cursor()"
      ],
      "metadata": {
        "id": "tp-CubGXS1gk"
      },
      "execution_count": 8,
      "outputs": []
    },
    {
      "cell_type": "code",
      "execution_count": 9,
      "metadata": {
        "id": "bgHMunv-ShXd"
      },
      "outputs": [],
      "source": [
        "# Create tables\n",
        "cursor.execute(\"\"\"\n",
        "    CREATE TABLE IF NOT EXISTS Person (\n",
        "        id INTEGER PRIMARY KEY,\n",
        "        name TEXT\n",
        "    )\n",
        "\"\"\")\n",
        "\n",
        "cursor.execute(\"\"\"\n",
        "    CREATE TABLE IF NOT EXISTS Passport (\n",
        "        id INTEGER PRIMARY KEY,\n",
        "        person_id INTEGER UNIQUE,\n",
        "        passport_number TEXT UNIQUE,\n",
        "        FOREIGN KEY (person_id) REFERENCES Person (id)\n",
        "    )\n",
        "\"\"\")\n",
        "\n",
        "# Insert data\n",
        "cursor.execute(\"INSERT INTO Person (id, name) VALUES (1, 'Alice')\")\n",
        "cursor.execute(\"INSERT INTO Passport (id, person_id, passport_number) VALUES (1, 1, 'P123456')\")\n",
        "conn.commit()"
      ]
    },
    {
      "cell_type": "code",
      "source": [
        "cursor.execute(\"\"\"\n",
        "    SELECT Person.name, Passport.passport_number\n",
        "    FROM Person\n",
        "    JOIN Passport ON Person.id = Passport.person_id\n",
        "\"\"\")\n",
        "print(cursor.fetchall())  # Output: [('Alice', 'P123456')]"
      ],
      "metadata": {
        "colab": {
          "base_uri": "https://localhost:8080/"
        },
        "id": "xDhtH8trTBoi",
        "outputId": "95d5e68b-a39b-4113-ab2a-ea1c2f9261c0"
      },
      "execution_count": 10,
      "outputs": [
        {
          "output_type": "stream",
          "name": "stdout",
          "text": [
            "[('Alice', 'P123456')]\n"
          ]
        }
      ]
    }
  ]
}