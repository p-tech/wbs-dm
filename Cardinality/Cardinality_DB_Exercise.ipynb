{
  "nbformat": 4,
  "nbformat_minor": 0,
  "metadata": {
    "colab": {
      "provenance": [],
      "authorship_tag": "ABX9TyObLC5/DYl6Ubzm/dwQzDzB",
      "include_colab_link": true
    },
    "kernelspec": {
      "name": "python3",
      "display_name": "Python 3"
    },
    "language_info": {
      "name": "python"
    }
  },
  "cells": [
    {
      "cell_type": "markdown",
      "metadata": {
        "id": "view-in-github",
        "colab_type": "text"
      },
      "source": [
        "<a href=\"https://colab.research.google.com/github/p-tech/wbs-dm/blob/main/Cardinality/Cardinality_DB_Exercise.ipynb\" target=\"_parent\"><img src=\"https://colab.research.google.com/assets/colab-badge.svg\" alt=\"Open In Colab\"/></a>"
      ]
    },
    {
      "cell_type": "code",
      "execution_count": 1,
      "metadata": {
        "id": "rMBFWpJvZg5-"
      },
      "outputs": [],
      "source": [
        "import sqlite3\n",
        "\n",
        "# Connect to SQLite database (creates a file 'library.db' if not exists)\n",
        "conn = sqlite3.connect('library.db')\n",
        "cursor = conn.cursor()"
      ]
    },
    {
      "cell_type": "code",
      "source": [
        "# 1️⃣ Create Tables\n",
        "cursor.executescript(\"\"\"\n",
        "    -- Librarian Table (1:M with Borrower)\n",
        "    CREATE TABLE IF NOT EXISTS Librarian (\n",
        "        LibrarianID INTEGER PRIMARY KEY AUTOINCREMENT,\n",
        "        Name TEXT NOT NULL,\n",
        "        Shift TEXT NOT NULL\n",
        "    );\n",
        "\n",
        "    -- Borrower Table (M:1 with Librarian)\n",
        "    CREATE TABLE IF NOT EXISTS Borrower (\n",
        "        BorrowerID INTEGER PRIMARY KEY AUTOINCREMENT,\n",
        "        Name TEXT NOT NULL,\n",
        "        ContactInfo TEXT,\n",
        "        LibrarianID INTEGER,\n",
        "        FOREIGN KEY (LibrarianID) REFERENCES Librarian(LibrarianID)\n",
        "    );\n",
        "\n",
        "    -- Library Branch Table (1:M with Book)\n",
        "    CREATE TABLE IF NOT EXISTS LibraryBranch (\n",
        "        BranchID INTEGER PRIMARY KEY AUTOINCREMENT,\n",
        "        Name TEXT NOT NULL,\n",
        "        Location TEXT NOT NULL\n",
        "    );\n",
        "\n",
        "    -- Book Table (M:1 with Library Branch)\n",
        "    CREATE TABLE IF NOT EXISTS Book (\n",
        "        BookID INTEGER PRIMARY KEY AUTOINCREMENT,\n",
        "        Title TEXT NOT NULL,\n",
        "        Author TEXT NOT NULL,\n",
        "        ISBN TEXT NOT NULL,\n",
        "        BranchID INTEGER,\n",
        "        FOREIGN KEY (BranchID) REFERENCES LibraryBranch(BranchID)\n",
        "    );\n",
        "\n",
        "    -- Loan_Record Table (M:M between Borrower and Book)\n",
        "    CREATE TABLE IF NOT EXISTS Loan_Record (\n",
        "        LoanID INTEGER PRIMARY KEY AUTOINCREMENT,\n",
        "        BorrowerID INTEGER,\n",
        "        BookID INTEGER,\n",
        "        BorrowDate TEXT,\n",
        "        ReturnDate TEXT,\n",
        "        FOREIGN KEY (BorrowerID) REFERENCES Borrower(BorrowerID),\n",
        "        FOREIGN KEY (BookID) REFERENCES Book(BookID)\n",
        "    );\n",
        "\"\"\")\n",
        "conn.commit()"
      ],
      "metadata": {
        "id": "U0r9bhcWZqIe"
      },
      "execution_count": 2,
      "outputs": []
    },
    {
      "cell_type": "code",
      "source": [
        "# 2️⃣ Insert Sample Data\n",
        "cursor.executescript(\"\"\"\n",
        "    -- Insert Librarians\n",
        "    INSERT INTO Librarian (Name, Shift) VALUES\n",
        "        ('Sarah Johnson', 'Morning'),\n",
        "        ('James Smith', 'Evening');\n",
        "\n",
        "    -- Insert Borrowers\n",
        "    INSERT INTO Borrower (Name, ContactInfo, LibrarianID) VALUES\n",
        "        ('Alice Brown', 'alice@example.com', 1),\n",
        "        ('Bob White', 'bob@example.com', 2);\n",
        "\n",
        "    -- Insert Library Branches\n",
        "    INSERT INTO LibraryBranch (Name, Location) VALUES\n",
        "        ('Central Library', 'Main Street'),\n",
        "        ('Westside Library', 'West Avenue');\n",
        "\n",
        "    -- Insert Books\n",
        "    INSERT INTO Book (Title, Author, ISBN, BranchID) VALUES\n",
        "        ('Database Design', 'John Carter', '978-1234567890', 1),\n",
        "        ('Digital Business', 'Emily Davis', '978-0987654321', 2);\n",
        "\n",
        "    -- Insert Loan Records (M:M Relationship)\n",
        "    INSERT INTO Loan_Record (BorrowerID, BookID, BorrowDate, ReturnDate) VALUES\n",
        "        (1, 1, '2024-02-01', '2024-02-15'),\n",
        "        (2, 1, '2024-02-20', '2024-03-05'),\n",
        "        (1, 2, '2024-02-10', NULL);\n",
        "\"\"\")\n",
        "conn.commit()"
      ],
      "metadata": {
        "id": "s5ebQhugZske"
      },
      "execution_count": 3,
      "outputs": []
    },
    {
      "cell_type": "code",
      "source": [
        "# 1️⃣ Find Books Borrowed by a Specific Borrower\n",
        "def get_borrowed_books(borrower_name):\n",
        "    query = \"\"\"\n",
        "        SELECT Borrower.Name, Book.Title, Loan_Record.BorrowDate, Loan_Record.ReturnDate\n",
        "        FROM Loan_Record\n",
        "        JOIN Borrower ON Loan_Record.BorrowerID = Borrower.BorrowerID\n",
        "        JOIN Book ON Loan_Record.BookID = Book.BookID\n",
        "        WHERE Borrower.Name = ?;\n",
        "    \"\"\"\n",
        "    cursor.execute(query, (borrower_name,))\n",
        "    results = cursor.fetchall()\n",
        "    return results\n",
        "\n",
        "# 2️⃣ Count Number of Books Borrowed per Borrower\n",
        "def count_books_per_borrower():\n",
        "    query = \"\"\"\n",
        "        SELECT Borrower.Name, COUNT(Loan_Record.BookID) AS BooksBorrowed\n",
        "        FROM Loan_Record\n",
        "        JOIN Borrower ON Loan_Record.BorrowerID = Borrower.BorrowerID\n",
        "        GROUP BY Borrower.Name;\n",
        "    \"\"\"\n",
        "    cursor.execute(query)\n",
        "    return cursor.fetchall()\n",
        "\n",
        "# 3️⃣ Find Available Books in a Specific Library Branch\n",
        "def available_books(branch_name):\n",
        "    query = \"\"\"\n",
        "        SELECT Book.Title, Book.Author, LibraryBranch.Name AS Branch\n",
        "        FROM Book\n",
        "        JOIN LibraryBranch ON Book.BranchID = LibraryBranch.BranchID\n",
        "        WHERE LibraryBranch.Name = ?;\n",
        "    \"\"\"\n",
        "    cursor.execute(query, (branch_name,))\n",
        "    return cursor.fetchall()\n",
        "\n",
        "# 4️⃣ Find Borrowers and Their Assigned Librarians\n",
        "def borrowers_librarians():\n",
        "    query = \"\"\"\n",
        "        SELECT Borrower.Name AS Borrower, Librarian.Name AS AssignedLibrarian\n",
        "        FROM Borrower\n",
        "        JOIN Librarian ON Borrower.LibrarianID = Librarian.LibrarianID;\n",
        "    \"\"\"\n",
        "    cursor.execute(query)\n",
        "    return cursor.fetchall()\n",
        "\n",
        "# 4️⃣ Run Queries\n",
        "print(\"\\n📚 Books Borrowed by Alice Brown:\")\n",
        "print(get_borrowed_books(\"Alice Brown\"))\n",
        "\n",
        "print(\"\\n📊 Number of Books Borrowed per Borrower:\")\n",
        "print(count_books_per_borrower())\n",
        "\n",
        "print(\"\\n📖 Books Available in Central Library:\")\n",
        "print(available_books(\"Central Library\"))\n",
        "\n",
        "print(\"\\n👤 Borrowers and Their Assigned Librarians:\")\n",
        "print(borrowers_librarians())\n",
        "\n",
        "# Close the database connection\n",
        "conn.close()"
      ],
      "metadata": {
        "colab": {
          "base_uri": "https://localhost:8080/"
        },
        "id": "3LPb0idkZ4Q6",
        "outputId": "257cc336-9779-4147-f59c-4a5f569e32f9"
      },
      "execution_count": 6,
      "outputs": [
        {
          "output_type": "stream",
          "name": "stdout",
          "text": [
            "\n",
            "📚 Books Borrowed by Alice Brown:\n",
            "[('Alice Brown', 'Database Design', '2024-02-01', '2024-02-15'), ('Alice Brown', 'Digital Business', '2024-02-10', None)]\n",
            "\n",
            "📊 Number of Books Borrowed per Borrower:\n",
            "[('Alice Brown', 2), ('Bob White', 1)]\n",
            "\n",
            "📖 Books Available in Central Library:\n",
            "[('Database Design', 'John Carter', 'Central Library')]\n",
            "\n",
            "👤 Borrowers and Their Assigned Librarians:\n",
            "[('Alice Brown', 'Sarah Johnson'), ('Bob White', 'James Smith')]\n"
          ]
        }
      ]
    }
  ]
}