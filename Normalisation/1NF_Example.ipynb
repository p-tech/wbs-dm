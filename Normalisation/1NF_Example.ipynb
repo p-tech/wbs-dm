{
  "nbformat": 4,
  "nbformat_minor": 0,
  "metadata": {
    "colab": {
      "provenance": [],
      "authorship_tag": "ABX9TyOfZjMHvK9RtXRRPh7SUeg5",
      "include_colab_link": true
    },
    "kernelspec": {
      "name": "python3",
      "display_name": "Python 3"
    },
    "language_info": {
      "name": "python"
    }
  },
  "cells": [
    {
      "cell_type": "markdown",
      "metadata": {
        "id": "view-in-github",
        "colab_type": "text"
      },
      "source": [
        "<a href=\"https://colab.research.google.com/github/p-tech/wbs-dm/blob/main/Normalisation/1NF_Example.ipynb\" target=\"_parent\"><img src=\"https://colab.research.google.com/assets/colab-badge.svg\" alt=\"Open In Colab\"/></a>"
      ]
    },
    {
      "cell_type": "markdown",
      "source": [
        "# **Implementing 1st Normal From**\n",
        "\n",
        "---\n",
        "\n",
        "We're going to look at how to apply First Normal Form (1NF) by designing and restructuring a Python-based database representation (using lists or pandas DataFrames).\n",
        "\n",
        "We'll normalise a given dataset by ensuring:\n",
        "*   No repeating groups or arrays.\n",
        "*   Each column contains atomic (indivisible) values.\n",
        "*   Each row has a unique identifier.\n",
        "\n"
      ],
      "metadata": {
        "id": "T0XGftgulmHN"
      }
    },
    {
      "cell_type": "markdown",
      "source": [
        "# **Task Description:**\n",
        "\n",
        "---\n",
        "\n",
        "You are given a dataset representing student course registrations, where multiple courses are stored in a single column as a comma-separated list.\n",
        "\n",
        "Your task is to normalise this data to First Normal Form (1NF) using Python.\n",
        "\n"
      ],
      "metadata": {
        "id": "2d8U8pP9mkiW"
      }
    },
    {
      "cell_type": "code",
      "execution_count": null,
      "metadata": {
        "id": "_a94k79vk5XD"
      },
      "outputs": [],
      "source": [
        "import pandas as pd\n",
        "\n",
        "# Given dataset (Unnormalised)\n",
        "data = {\n",
        "    \"student_id\": [101, 102, 103],\n",
        "    \"student_name\": [\"Alice\", \"Bob\", \"Charlie\"],\n",
        "    \"courses\": [\"Math, Science\", \"English, History, Math\", \"Biology\"]\n",
        "}\n",
        "\n",
        "df = pd.DataFrame(data)\n",
        "print(df)"
      ]
    },
    {
      "cell_type": "markdown",
      "source": [
        "# **Transform the Data to 1NF**\n",
        "\n",
        "---\n",
        "\n",
        "You need to eliminate multi-valued attributes (the courses column) and create a separate row for each course while preserving student details.\n",
        "\n",
        "**Initialise an Empty List**\n",
        "Crates and empty list to store the transformed rows in a normalised format.\n",
        "\n",
        "normalised_data = []\n",
        "\n",
        "**Loop Through the Dataframe**\n",
        "df.iterrows() - steps through each row of the DataFrame\n",
        "The'_' is used because we dont' need the row index, jsut the row values\n",
        "\n",
        "for _, row in df.iterrows():\n",
        "\n",
        "**Extract Data from Each Row**\n",
        "Split based on the ',' : \"Math, Science\" -> [\"Math,\"Science\"]\n",
        "\n",
        "    student_id = row[\"student_id\"]\n",
        "    student_name = row[\"student_name\"]\n",
        "    courses = row[\"courses\"].split(\", \")  # Splitting courses\n",
        "\n",
        "**Creates Normalised Rows**\n",
        "For each course, a new dictionary is created and added to normalised_data\n",
        "\n",
        "    for course in courses:\n",
        "        normalised_data.append({\"student_id\": student_id, \"student_name\": student_name, \"course\": course})\n",
        "\n",
        "**Create a New DataFrame**\n",
        "Normailsed data, each course has it's own row.\n",
        "\n",
        "df_1NF = pd.DataFrame(normalised_data)\n",
        "\n"
      ],
      "metadata": {
        "id": "QmZkD0TXn0J8"
      }
    },
    {
      "cell_type": "code",
      "source": [
        "#normalised_data = []\n",
        "\n",
        "for _, row in df.iterrows():\n",
        "    student_id = row[\"student_id\"]\n",
        "    student_name = row[\"student_name\"]\n",
        "    courses = row[\"courses\"].split(\", \")  # Splitting courses\n",
        "\n",
        "    for course in courses:\n",
        "        normalised_data.append({\"student_id\": student_id, \"student_name\": student_name, \"course\": course})\n",
        "\n",
        "# Step 2: Create new DataFrame\n",
        "df_1NF = pd.DataFrame(normalised_data)\n",
        "\n",
        "# Display the normalised DataFrame\n",
        "# directly display the DataFrame using pandas' display function:\n",
        "display(df_1NF)\n",
        "\n",
        "# Alternatively, simply print the dataframe:\n",
        "#print(df_1NF)"
      ],
      "metadata": {
        "id": "cdj9RziWn8i9"
      },
      "execution_count": null,
      "outputs": []
    }
  ]
}