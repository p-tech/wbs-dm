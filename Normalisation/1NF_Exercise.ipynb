{
  "nbformat": 4,
  "nbformat_minor": 0,
  "metadata": {
    "colab": {
      "provenance": [],
      "authorship_tag": "ABX9TyPdd+31/Q5nV9pmbY+OTLht",
      "include_colab_link": true
    },
    "kernelspec": {
      "name": "python3",
      "display_name": "Python 3"
    },
    "language_info": {
      "name": "python"
    }
  },
  "cells": [
    {
      "cell_type": "markdown",
      "metadata": {
        "id": "view-in-github",
        "colab_type": "text"
      },
      "source": [
        "<a href=\"https://colab.research.google.com/github/p-tech/wbs-dm/blob/main/Normalisation/1NF_Exercise.ipynb\" target=\"_parent\"><img src=\"https://colab.research.google.com/assets/colab-badge.svg\" alt=\"Open In Colab\"/></a>"
      ]
    },
    {
      "cell_type": "code",
      "source": [
        "import pandas as pd\n",
        "\n",
        "# Install the necessary library if not already installed\n",
        "!pip install pandas\n",
        "\n",
        "df = pd.read_csv('<INSERT FILENAME>')\n",
        "print(df.head())\n"
      ],
      "metadata": {
        "id": "d4FXYiYazeSz",
        "outputId": "5091f5f2-16a0-4de3-e96f-f5e57773ebcb",
        "colab": {
          "base_uri": "https://localhost:8080/"
        }
      },
      "execution_count": 2,
      "outputs": [
        {
          "output_type": "stream",
          "name": "stdout",
          "text": [
            "Requirement already satisfied: pandas in /usr/local/lib/python3.11/dist-packages (2.2.2)\n",
            "Requirement already satisfied: numpy>=1.23.2 in /usr/local/lib/python3.11/dist-packages (from pandas) (1.26.4)\n",
            "Requirement already satisfied: python-dateutil>=2.8.2 in /usr/local/lib/python3.11/dist-packages (from pandas) (2.8.2)\n",
            "Requirement already satisfied: pytz>=2020.1 in /usr/local/lib/python3.11/dist-packages (from pandas) (2025.1)\n",
            "Requirement already satisfied: tzdata>=2022.7 in /usr/local/lib/python3.11/dist-packages (from pandas) (2025.1)\n",
            "Requirement already satisfied: six>=1.5 in /usr/local/lib/python3.11/dist-packages (from python-dateutil>=2.8.2->pandas) (1.17.0)\n",
            "  first_name last_name            products_purchased  total_spend  \\\n",
            "0       Emma     Brown       Tooth Brush, Hair Dryer      1024.56   \n",
            "1     Olivia     Smith   Tooth Brush, TV, Hair Dryer      2078.96   \n",
            "2        Bob     Moore  Tooth Brush, Computer, Phone      2404.72   \n",
            "3      David     Brown               Computer, Phone      1151.34   \n",
            "4       Noah     Jones               Mouse, Computer      1370.38   \n",
            "\n",
            "  payment_method  \n",
            "0     Google Pay  \n",
            "1     Google Pay  \n",
            "2     Google Pay  \n",
            "3    Credit Card  \n",
            "4    Credit Card  \n"
          ]
        }
      ]
    },
    {
      "cell_type": "code",
      "source": [
        "normalised_data = []\n",
        "\n",
        "#modify the script to load the data and create teh nromalised dataframe\n",
        "\n",
        "for _, row in df.iterrows():\n",
        "  ATT1 = row[\"<FIELD ATT>\"]\n",
        "  ATT2 = row[\"<FIELD ATT2>\"]\n",
        "  ATT3 = row[\"<FIELD ATT3>\"]\n",
        "  ATT4 = row[\"<FIELD ATT4>\"].split(\", \")  # Splitting courses\n",
        "\n",
        "  for products in < FIELD ATT4 >:\n",
        "    normalised_data.append({\"1\": ATT1, \"2\": ATT2, \"3\": ATT3, \"4\": ATT4})\n",
        "\n",
        "# Step 2: Create new DataFrame\n",
        "df_1NF = pd.DataFrame(normalised_data)\n",
        "\n",
        "# Display the normalised DataFrame\n",
        "# directly display the DataFrame using pandas' display function:\n",
        "display(df_1NF)\n",
        "\n",
        "# Alternatively, simply print the dataframe:\n",
        "#print(df_1NF)"
      ],
      "metadata": {
        "id": "cdj9RziWn8i9"
      },
      "execution_count": null,
      "outputs": []
    }
  ]
}