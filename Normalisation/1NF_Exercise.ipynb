{
  "nbformat": 4,
  "nbformat_minor": 0,
  "metadata": {
    "colab": {
      "provenance": [],
      "authorship_tag": "ABX9TyO/pdsUjBWRz/iPa47hKq/P",
      "include_colab_link": true
    },
    "kernelspec": {
      "name": "python3",
      "display_name": "Python 3"
    },
    "language_info": {
      "name": "python"
    }
  },
  "cells": [
    {
      "cell_type": "markdown",
      "metadata": {
        "id": "view-in-github",
        "colab_type": "text"
      },
      "source": [
        "<a href=\"https://colab.research.google.com/github/p-tech/wbs-dm/blob/main/Normalisation/1NF_Exercise.ipynb\" target=\"_parent\"><img src=\"https://colab.research.google.com/assets/colab-badge.svg\" alt=\"Open In Colab\"/></a>"
      ]
    },
    {
      "cell_type": "code",
      "source": [
        "import pandas as pd\n",
        "\n",
        "# Install the necessary library if not already installed\n",
        "!pip install pandas\n",
        "\n",
        "df = pd.read_csv('<INSERT FILENAME>')\n",
        "print(df.head())\n"
      ],
      "metadata": {
        "id": "d4FXYiYazeSz"
      },
      "execution_count": null,
      "outputs": []
    },
    {
      "cell_type": "code",
      "source": [
        "normalised_data = []\n",
        "\n",
        "#modify the script to load the data and create teh nromalised dataframe\n",
        "\n",
        "for _, row in df.iterrows():\n",
        "  ATT1 = row[\"<FIELD ATT>\"]\n",
        "  ATT2 = row[\"<FIELD ATT2>\"]\n",
        "  ATT3 = row[\"<FIELD ATT3>\"]\n",
        "  ATT4 = row[\"<FIELD ATT4>\"]\n",
        "  ATT5 = row[\"<FIELD ATT5>\"].split(\", \")  # Splitting courses\n",
        "\n",
        "  for products in < FIELD ATT5 >:\n",
        "    normalised_data.append({\"1\": ATT1, \"2\": ATT2, \"3\": ATT3, \"4\": ATT4, \"5\": ATT5})\n",
        "\n",
        "# Step 2: Create new DataFrame\n",
        "df_1NF = pd.DataFrame(normalised_data)\n",
        "\n",
        "# Display the normalised DataFrame\n",
        "# directly display the DataFrame using pandas' display function:\n",
        "display(df_1NF)\n",
        "\n",
        "# Alternatively, simply print the dataframe:\n",
        "#print(df_1NF)"
      ],
      "metadata": {
        "id": "cdj9RziWn8i9"
      },
      "execution_count": null,
      "outputs": []
    },
    {
      "cell_type": "code",
      "source": [
        "\n",
        "df_1NF.to_csv('df_INF.csv', index=False)\n"
      ],
      "metadata": {
        "id": "7DeUBSUw1dyV"
      },
      "execution_count": null,
      "outputs": []
    }
  ]
}