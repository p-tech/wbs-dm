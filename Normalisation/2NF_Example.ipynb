{
  "nbformat": 4,
  "nbformat_minor": 0,
  "metadata": {
    "colab": {
      "provenance": [],
      "authorship_tag": "ABX9TyNKoeuUDvzPAOTrl8Jcu8xX",
      "include_colab_link": true
    },
    "kernelspec": {
      "name": "python3",
      "display_name": "Python 3"
    },
    "language_info": {
      "name": "python"
    }
  },
  "cells": [
    {
      "cell_type": "markdown",
      "metadata": {
        "id": "view-in-github",
        "colab_type": "text"
      },
      "source": [
        "<a href=\"https://colab.research.google.com/github/p-tech/wbs-dm/blob/main/Normalisation/2NF_Example.ipynb\" target=\"_parent\"><img src=\"https://colab.research.google.com/assets/colab-badge.svg\" alt=\"Open In Colab\"/></a>"
      ]
    },
    {
      "cell_type": "markdown",
      "source": [
        "# **Implementing 2nd Normal Form**\n",
        "\n",
        "---\n",
        "\n"
      ],
      "metadata": {
        "id": "T0XGftgulmHN"
      }
    },
    {
      "cell_type": "markdown",
      "source": [
        "# **Task Description:**\n",
        "\n",
        "---\n",
        "\n",
        "You are given a dataset representing student course registrations, where multiple courses are stored in a single column as a comma-separated list.\n",
        "\n",
        "Your task is to normalise this data to First Normal Form (1NF) using Python.\n",
        "\n"
      ],
      "metadata": {
        "id": "2d8U8pP9mkiW"
      }
    },
    {
      "cell_type": "code",
      "execution_count": null,
      "metadata": {
        "id": "_a94k79vk5XD"
      },
      "outputs": [],
      "source": [
        "import pandas as pd\n",
        "\n",
        "# Given dataset (1NF)\n",
        "data = {\n",
        "    \"order_id\": [1001, 1002, 1003, 1004, 1005],\n",
        "    \"first_name\": [\"Emma\", \"Olivia\", \"Bob\", \"David\", \"Noah\"],\n",
        "    \"last_name\": [\"Brown\", \"Smith\", \"Moore\", \"Brown\", \"Jones\"],\n",
        "    \"products_purchased\": [\"Tooth Brush, Hair Dryer\", \"Tooth Brush, TV, Hair Dryer\",\n",
        "                           \"Tooth Brush, Computer, Phone\", \"Computer, Phone\", \"Mouse, Computer\"],\n",
        "    \"total_spend\": [1024.56, 2078.96, 2404.72, 1151.34, 1370.38],\n",
        "    \"payment_method\": [\"Google Pay\", \"Google Pay\", \"Google Pay\", \"Credit Card\", \"Credit Card\"]\n",
        "}\n",
        "\n",
        "df_1NF = pd.DataFrame(data)\n",
        "print(df_1NF)"
      ]
    },
    {
      "cell_type": "markdown",
      "source": [
        "Splitting the products_purchased Column:\n",
        "\n",
        "`df_1NF.assign(products_purchased=df_1NF['products_purchased'].str.split(','))`\n",
        "\n",
        "The products_purchased column likely contains multiple products in a single row as a comma-separated string (e.g., \"Laptop, Phone, Tablet\").\n",
        "\n",
        "`.str.split(',') converts this string into a list (e.g., [\"Laptop\", \"Phone\", \"Tablet\"]).`\n",
        "\n",
        "`assign()` creates a new DataFrame with this transformed column.\n",
        "\n",
        "Removing Extra Spaces:\n",
        "\n",
        "```\n",
        "df_1NF_exploded['products_purchased'] = df_1NF_exploded['products_purchased'].str.strip()\n",
        "```\n",
        "\n",
        ".str.strip() removes any leading or trailing spaces from each product name.\n",
        "\n",
        "This is useful if the original data had spaces around commas (e.g., \"Laptop , Phone , Tablet\" → \"Laptop\", \"Phone\", \"Tablet\").\n",
        "\n",
        "Resetting the Index:\n",
        "\n",
        "```\n",
        "df_1NF_exploded = df_1NF_exploded.reset_index(drop=True)\n",
        "```\n",
        "\n",
        "Since explode() creates new rows, the index may no longer be sequential.\n",
        "\n",
        "reset_index(drop=True) reassigns new index values without keeping the old ones."
      ],
      "metadata": {
        "id": "mYdE4tHKHYGT"
      }
    },
    {
      "cell_type": "code",
      "source": [
        "# Explode the 'products_purchased' column\n",
        "df_1NF_exploded = df_1NF.assign(products_purchased=df_1NF['products_purchased'].str.split(',')).explode('products_purchased')\n",
        "\n",
        "# Remove leading/trailing whitespace from the 'products_purchased' column\n",
        "df_1NF_exploded['products_purchased'] = df_1NF_exploded['products_purchased'].str.strip()\n",
        "\n",
        "# Reset the index\n",
        "df_1NF_exploded = df_1NF_exploded.reset_index(drop=True)\n",
        "\n",
        "df_1NF_exploded\n"
      ],
      "metadata": {
        "id": "Eq3HNHckGySx"
      },
      "execution_count": null,
      "outputs": []
    },
    {
      "cell_type": "markdown",
      "source": [
        "# **Convert to 2NF**\n",
        "Students must split the data into three tables to remove partial dependencies:\n",
        "\n",
        "Customers Table (customer_id, first_name, last_name)\n",
        "Orders Table (order_id, customer_id, payment_method)\n",
        "Order_Items Table (order_id, product, price)"
      ],
      "metadata": {
        "id": "ycFU_y1KLZJW"
      }
    },
    {
      "cell_type": "markdown",
      "source": [
        "# **Step 1: Create the Customers Table**"
      ],
      "metadata": {
        "id": "pKBDgtMRMwvn"
      }
    },
    {
      "cell_type": "markdown",
      "source": [
        "Extracts first_name and last_name from the df_INF_exploded and removes duplicates across both names.\n",
        "\n",
        "removes the ID that exist (drop=True)\n",
        "\n",
        "renames the index to customer_id\n",
        "\n",
        "index.name sets the customer_id index column as an actual column in the table.  Would make this a primary key (unique) in a relational database."
      ],
      "metadata": {
        "id": "4JGPFuz0NpJy"
      }
    },
    {
      "cell_type": "code",
      "source": [
        "# Generate unique customers\n",
        "customers = df_1NF[['first_name', 'last_name']].drop_duplicates().reset_index(drop=True)\n",
        "customers['customer_id'] = customers.index + 1  # Assign unique customer IDs\n",
        "\n",
        "# Display the table\n",
        "display(customers)\n"
      ],
      "metadata": {
        "id": "IRlLyJP-NC3i"
      },
      "execution_count": null,
      "outputs": []
    },
    {
      "cell_type": "markdown",
      "source": [
        "# **Create the Orders Table:**"
      ],
      "metadata": {
        "id": "qPsW-B7KQ2zi"
      }
    },
    {
      "cell_type": "code",
      "source": [
        "\n",
        "# Merge with customers to assign customer_id to each order\n",
        "df_1NF = df_1NF.merge(customers, on=['first_name', 'last_name'], how='left')\n",
        "\n",
        "# Create Orders Table\n",
        "orders = df_1NF[['order_id', 'customer_id', 'payment_method']]\n",
        "\n",
        "# Display the table\n",
        "display(orders)\n"
      ],
      "metadata": {
        "id": "s4oSagjiO035"
      },
      "execution_count": null,
      "outputs": []
    },
    {
      "cell_type": "code",
      "source": [],
      "metadata": {
        "id": "E03Q4YVcRR4F"
      },
      "execution_count": null,
      "outputs": []
    },
    {
      "cell_type": "markdown",
      "source": [
        "# **Create the Order Items Table**"
      ],
      "metadata": {
        "id": "4rjrLODtRSpB"
      }
    },
    {
      "cell_type": "code",
      "source": [
        "# Step 1: Convert multi-valued 'products_purchased' column into separate rows\n",
        "order_items = []\n",
        "\n",
        "for _, row in df_1NF.iterrows():\n",
        "    order_id = row[\"order_id\"]\n",
        "    products = row[\"products_purchased\"].split(\", \")  # Splitting products\n",
        "    total_spend = row[\"total_spend\"]\n",
        "\n",
        "    # Distribute total spend randomly among products (for simplicity)\n",
        "    product_prices = [round(total_spend / len(products), 2) for _ in products]\n",
        "\n",
        "    for product, price in zip(products, product_prices):\n",
        "        order_items.append({\"order_id\": order_id, \"product\": product, \"price\": price})\n",
        "\n",
        "# Create Order_Items DataFrame\n",
        "df_order_items = pd.DataFrame(order_items)\n",
        "\n",
        "# Display the table\n",
        "display(df_order_items)\n"
      ],
      "metadata": {
        "id": "JEhAYNoeQ853"
      },
      "execution_count": null,
      "outputs": []
    }
  ]
}