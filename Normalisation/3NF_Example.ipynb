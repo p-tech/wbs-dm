{
  "nbformat": 4,
  "nbformat_minor": 0,
  "metadata": {
    "colab": {
      "provenance": [],
      "authorship_tag": "ABX9TyMySsbFS75n1oNW3PdNj+id",
      "include_colab_link": true
    },
    "kernelspec": {
      "name": "python3",
      "display_name": "Python 3"
    },
    "language_info": {
      "name": "python"
    }
  },
  "cells": [
    {
      "cell_type": "markdown",
      "metadata": {
        "id": "view-in-github",
        "colab_type": "text"
      },
      "source": [
        "<a href=\"https://colab.research.google.com/github/p-tech/wbs-dm/blob/main/Normalisation/3NF_Example.ipynb\" target=\"_parent\"><img src=\"https://colab.research.google.com/assets/colab-badge.svg\" alt=\"Open In Colab\"/></a>"
      ]
    },
    {
      "cell_type": "markdown",
      "source": [
        "# **Implementing 3rd Normal Form**\n",
        "\n",
        "---\n",
        "\n"
      ],
      "metadata": {
        "id": "T0XGftgulmHN"
      }
    },
    {
      "cell_type": "markdown",
      "source": [
        "# **Task Description:**\n",
        "\n",
        "---\n",
        "\n",
        "You are given a dataset representing student course registrations, where multiple courses are stored in a single column as a comma-separated list.\n",
        "\n",
        "Your task is to normalise this data to First Normal Form (1NF) using Python.\n",
        "\n"
      ],
      "metadata": {
        "id": "2d8U8pP9mkiW"
      }
    },
    {
      "cell_type": "code",
      "execution_count": null,
      "metadata": {
        "id": "_a94k79vk5XD"
      },
      "outputs": [],
      "source": [
        "import pandas as pd\n",
        "\n",
        "# Given dataset (1NF)\n",
        "data = {\n",
        "    \"order_id\": [1001, 1001, 1002, 1002, 1002, 1003, 1003, 1003, 1004, 1004, 1005, 1005],\n",
        "    \"first_name\": [\"Emma\", \"Emma\", \"Olivia\", \"Olivia\", \"Olivia\", \"Bob\", \"Bob\", \"Bob\", \"David\", \"David\", \"Noah\", \"Noah\"],\n",
        "    \"last_name\": [\"Brown\", \"Brown\", \"Smith\", \"Smith\", \"Smith\", \"Moore\", \"Moore\", \"Moore\", \"Brown\", \"Brown\", \"Jones\", \"Jones\"],\n",
        "    \"product_purchased\": [\"Tooth Brush, Hair Dryer\", \"Hair Dryer\", \"Tooth Brush, Computer\", \"TV\", \"Hair Dryer\",\n",
        "                           \"Tooth Brush\", \"Computer, Hair Dryer, Tooth Brush\", \"Phone\", \"Phone, Computer\", \"Mouse, Phone\", \"Mouse\", \"Computer\"],\n",
        "    \"total_spend\": [512.28, 512.28, 692.99, 692.99, 692.99, 801.57, 801.57, 801.57, 575.67, 575.67, 685.19, 685.19],\n",
        "    \"payment_method\": [\"Google Pay\", \"Google Pay\", \"Google Pay\", \"Google Pay\", \"Google Pay\",\n",
        "                       \"Google Pay\", \"Google Pay\", \"Google Pay\", \"Credit Card\", \"Credit Card\", \"Credit Card\", \"Credit Card\"]\n",
        "}\n",
        "\n",
        "df_1NF = pd.DataFrame(data)\n",
        "print(df_1NF)\n"
      ]
    },
    {
      "cell_type": "code",
      "source": [
        "# Explode the 'products_purchased' column\n",
        "df_1NF_exploded = df_1NF.assign(product_purchased=df_1NF['product_purchased'].str.split(',')).explode('product_purchased')\n",
        "\n",
        "# Remove leading/trailing whitespace from the 'products_purchased' column\n",
        "df_1NF_exploded['product_purchased'] = df_1NF_exploded['product_purchased'].str.strip()\n",
        "\n",
        "# Reset the index\n",
        "df_1NF_exploded = df_1NF_exploded.reset_index(drop=True)\n",
        "\n",
        "df_1NF_exploded\n"
      ],
      "metadata": {
        "id": "Eq3HNHckGySx"
      },
      "execution_count": null,
      "outputs": []
    },
    {
      "cell_type": "markdown",
      "source": [
        "# **Convert to 3NF**\n",
        "Students must split the data into tables to remove transient dependencies:\n",
        "\n",
        "Customers Table (customer_id, first_name, last_name)\n",
        "\n",
        "Orders Table (order_id, customer_id, payment_id)\n",
        "\n",
        "Payment Methods Table (payment_id, payment_method)\n",
        "\n",
        "Products Table (product_id, product_name)\n",
        "\n",
        "Order_Items Table (order_id, product_id, total_spend)\n"
      ],
      "metadata": {
        "id": "ycFU_y1KLZJW"
      }
    },
    {
      "cell_type": "markdown",
      "source": [
        "# **Step 1: Create the Customers Table**"
      ],
      "metadata": {
        "id": "pKBDgtMRMwvn"
      }
    },
    {
      "cell_type": "markdown",
      "source": [
        "Extracts first_name and last_name from the df_INF_exploded and removes duplicates across both names.\n",
        "\n",
        "removes the ID that exist (drop=True)\n",
        "\n",
        "renames the index to customer_id\n",
        "\n",
        "index.name sets the customer_id index column as an actual column in the table.  Would make this a primary key (unique) in a relational database."
      ],
      "metadata": {
        "id": "4JGPFuz0NpJy"
      }
    },
    {
      "cell_type": "code",
      "source": [
        "# Step 1: Extract unique customers\n",
        "customers = df_1NF_exploded[['first_name', 'last_name']].drop_duplicates().reset_index(drop=True)\n",
        "customers['customer_id'] = customers.index + 1  # Assign unique customer IDs\n",
        "\n",
        "# Display Customers Table\n",
        "display(customers)"
      ],
      "metadata": {
        "id": "IRlLyJP-NC3i"
      },
      "execution_count": null,
      "outputs": []
    },
    {
      "cell_type": "markdown",
      "source": [
        "# **Create the Orders Table:**"
      ],
      "metadata": {
        "id": "qPsW-B7KQ2zi"
      }
    },
    {
      "cell_type": "code",
      "source": [
        "\n",
        "# Merging customer_id into df_1NF to maintain relationships\n",
        "df_1NF = df_1NF_exploded.merge(customers, on=['first_name', 'last_name'], how='left')\n",
        "\n",
        "# Creating Orders Table\n",
        "orders = df_1NF[['order_id', 'customer_id', 'payment_method']].drop_duplicates().reset_index(drop=True)\n",
        "\n",
        "# Display the table\n",
        "display(orders)\n"
      ],
      "metadata": {
        "id": "s4oSagjiO035"
      },
      "execution_count": null,
      "outputs": []
    },
    {
      "cell_type": "code",
      "source": [],
      "metadata": {
        "id": "E03Q4YVcRR4F"
      },
      "execution_count": null,
      "outputs": []
    },
    {
      "cell_type": "markdown",
      "source": [
        "# **Create Payment Methods Table - Modify Orders Table**"
      ],
      "metadata": {
        "id": "bBU7cxiKWcF7"
      }
    },
    {
      "cell_type": "code",
      "source": [
        "# Extract unique payment methods\n",
        "payment_methods = orders[['payment_method']].drop_duplicates().reset_index(drop=True)\n",
        "payment_methods['payment_id'] = payment_methods.index + 1  # Assign unique payment IDs\n",
        "\n",
        "# Merge payment_id into Orders Table\n",
        "orders = orders.merge(payment_methods, on='payment_method', how='left').drop(columns=['payment_method'])\n",
        "\n",
        "display(payment_methods)\n",
        "display(orders)"
      ],
      "metadata": {
        "id": "LrsRPBymWRXf"
      },
      "execution_count": null,
      "outputs": []
    },
    {
      "cell_type": "code",
      "source": [
        "products = df_1NF_exploded[['product_purchased']].drop_duplicates().reset_index(drop=True)\n",
        "products['product_id'] = products.index + 1  # Assign unique product IDs\n",
        "\n",
        "display(products)"
      ],
      "metadata": {
        "id": "zhepye_XWmfC"
      },
      "execution_count": null,
      "outputs": []
    },
    {
      "cell_type": "markdown",
      "source": [
        "# **Create the Order Items Table**"
      ],
      "metadata": {
        "id": "4rjrLODtRSpB"
      }
    },
    {
      "cell_type": "code",
      "source": [
        "order_items = df_1NF_exploded[['order_id', 'product_purchased', 'total_spend']]\n",
        "order_items = order_items.merge(products, on='product_purchased', how='left').drop(columns=['product_purchased'])\n",
        "\n",
        "display(order_items)\n"
      ],
      "metadata": {
        "id": "JEhAYNoeQ853"
      },
      "execution_count": null,
      "outputs": []
    }
  ]
}